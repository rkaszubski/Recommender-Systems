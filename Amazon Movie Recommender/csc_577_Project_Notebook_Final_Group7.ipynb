{
 "cells": [
  {
   "cell_type": "markdown",
   "metadata": {},
   "source": [
    "### Group Project\n",
    "### Group 7\n",
    "### Law and Order: SVD\n",
    "\n",
    "#### Robert Kaszubski, Neelabh Pathak, Christopher Wieneke"
   ]
  },
  {
   "cell_type": "markdown",
   "metadata": {},
   "source": [
    "## Surprise Models:"
   ]
  },
  {
   "cell_type": "markdown",
   "metadata": {},
   "source": [
    "imports:"
   ]
  },
  {
   "cell_type": "code",
   "execution_count": 1,
   "metadata": {},
   "outputs": [],
   "source": [
    "import gzip\n",
    "import json\n",
    "\n",
    "import numpy as np\n",
    "import pandas as pd\n",
    "import matplotlib.pyplot as plt\n",
    "%matplotlib inline\n",
    "import datetime"
   ]
  },
  {
   "cell_type": "code",
   "execution_count": 2,
   "metadata": {},
   "outputs": [],
   "source": [
    "import random\n",
    "from surprise import Dataset\n",
    "from surprise import Reader\n",
    "\n",
    "#Models\n",
    "from surprise import SlopeOne, CoClustering, KNNBasic, KNNWithMeans, KNNWithZScore, KNNBaseline, SVD, SVDpp, NMF\n",
    "\n",
    "from surprise.model_selection import cross_validate, GridSearchCV, train_test_split, KFold, ShuffleSplit\n",
    "from surprise import accuracy\n",
    "\n",
    "from sklearn.feature_extraction.text import TfidfVectorizer, CountVectorizer\n",
    "from sklearn.metrics.pairwise import cosine_similarity"
   ]
  },
  {
   "cell_type": "markdown",
   "metadata": {},
   "source": [
    "Open dataset json file. Using only first 100,000 rows."
   ]
  },
  {
   "cell_type": "code",
   "execution_count": 3,
   "metadata": {},
   "outputs": [],
   "source": [
    "def parse(path):\n",
    "    g = gzip.open(path, 'rb')\n",
    "    for l in g:\n",
    "        yield json.loads(l)\n",
    "\n",
    "def getDF(path):\n",
    "    i = 0\n",
    "    df = {}\n",
    "    for d in parse(path):\n",
    "        df[i] = d\n",
    "        i += 1\n",
    "    return pd.DataFrame.from_dict(df, orient='index')\n",
    "\n",
    "df = getDF('Movies_and_TV_5.json.gz')\n",
    "#df = df.head(1000000)"
   ]
  },
  {
   "cell_type": "code",
   "execution_count": 4,
   "metadata": {},
   "outputs": [],
   "source": [
    "df_review = df.head(100000)"
   ]
  },
  {
   "cell_type": "markdown",
   "metadata": {},
   "source": [
    "#### Exploratory:"
   ]
  },
  {
   "cell_type": "code",
   "execution_count": 5,
   "metadata": {},
   "outputs": [
    {
     "data": {
      "text/html": [
       "<div>\n",
       "<style scoped>\n",
       "    .dataframe tbody tr th:only-of-type {\n",
       "        vertical-align: middle;\n",
       "    }\n",
       "\n",
       "    .dataframe tbody tr th {\n",
       "        vertical-align: top;\n",
       "    }\n",
       "\n",
       "    .dataframe thead th {\n",
       "        text-align: right;\n",
       "    }\n",
       "</style>\n",
       "<table border=\"1\" class=\"dataframe\">\n",
       "  <thead>\n",
       "    <tr style=\"text-align: right;\">\n",
       "      <th></th>\n",
       "      <th>overall</th>\n",
       "      <th>verified</th>\n",
       "      <th>reviewTime</th>\n",
       "      <th>reviewerID</th>\n",
       "      <th>asin</th>\n",
       "      <th>style</th>\n",
       "      <th>reviewerName</th>\n",
       "      <th>reviewText</th>\n",
       "      <th>summary</th>\n",
       "      <th>unixReviewTime</th>\n",
       "      <th>vote</th>\n",
       "      <th>image</th>\n",
       "    </tr>\n",
       "  </thead>\n",
       "  <tbody>\n",
       "    <tr>\n",
       "      <th>0</th>\n",
       "      <td>5.0</td>\n",
       "      <td>True</td>\n",
       "      <td>11 9, 2012</td>\n",
       "      <td>A2M1CU2IRZG0K9</td>\n",
       "      <td>0005089549</td>\n",
       "      <td>{'Format:': ' VHS Tape'}</td>\n",
       "      <td>Terri</td>\n",
       "      <td>So sorry I didn't purchase this years ago when...</td>\n",
       "      <td>Amazing!</td>\n",
       "      <td>1352419200</td>\n",
       "      <td>NaN</td>\n",
       "      <td>NaN</td>\n",
       "    </tr>\n",
       "    <tr>\n",
       "      <th>1</th>\n",
       "      <td>5.0</td>\n",
       "      <td>True</td>\n",
       "      <td>12 30, 2011</td>\n",
       "      <td>AFTUJYISOFHY6</td>\n",
       "      <td>0005089549</td>\n",
       "      <td>{'Format:': ' VHS Tape'}</td>\n",
       "      <td>Melissa D. Abercrombie</td>\n",
       "      <td>Believe me when I tell you that you will recei...</td>\n",
       "      <td>Great Gospel VHS of the Cathedrals!</td>\n",
       "      <td>1325203200</td>\n",
       "      <td>NaN</td>\n",
       "      <td>NaN</td>\n",
       "    </tr>\n",
       "    <tr>\n",
       "      <th>2</th>\n",
       "      <td>5.0</td>\n",
       "      <td>True</td>\n",
       "      <td>04 21, 2005</td>\n",
       "      <td>A3JVF9Y53BEOGC</td>\n",
       "      <td>000503860X</td>\n",
       "      <td>{'Format:': ' DVD'}</td>\n",
       "      <td>Anthony Thompson</td>\n",
       "      <td>I have seen X live many times, both in the ear...</td>\n",
       "      <td>A great document of a great band</td>\n",
       "      <td>1114041600</td>\n",
       "      <td>11</td>\n",
       "      <td>NaN</td>\n",
       "    </tr>\n",
       "    <tr>\n",
       "      <th>3</th>\n",
       "      <td>5.0</td>\n",
       "      <td>True</td>\n",
       "      <td>04 6, 2005</td>\n",
       "      <td>A12VPEOEZS1KTC</td>\n",
       "      <td>000503860X</td>\n",
       "      <td>{'Format:': ' DVD'}</td>\n",
       "      <td>JadeRain</td>\n",
       "      <td>I was so excited for this!  Finally, a live co...</td>\n",
       "      <td>YES!!  X LIVE!!</td>\n",
       "      <td>1112745600</td>\n",
       "      <td>5</td>\n",
       "      <td>NaN</td>\n",
       "    </tr>\n",
       "    <tr>\n",
       "      <th>4</th>\n",
       "      <td>5.0</td>\n",
       "      <td>True</td>\n",
       "      <td>12 3, 2010</td>\n",
       "      <td>ATLZNVLYKP9AZ</td>\n",
       "      <td>000503860X</td>\n",
       "      <td>{'Format:': ' DVD'}</td>\n",
       "      <td>T. Fisher</td>\n",
       "      <td>X is one of the best punk bands ever. I don't ...</td>\n",
       "      <td>X have still got it</td>\n",
       "      <td>1291334400</td>\n",
       "      <td>5</td>\n",
       "      <td>NaN</td>\n",
       "    </tr>\n",
       "  </tbody>\n",
       "</table>\n",
       "</div>"
      ],
      "text/plain": [
       "   overall  verified   reviewTime      reviewerID        asin  \\\n",
       "0      5.0      True   11 9, 2012  A2M1CU2IRZG0K9  0005089549   \n",
       "1      5.0      True  12 30, 2011   AFTUJYISOFHY6  0005089549   \n",
       "2      5.0      True  04 21, 2005  A3JVF9Y53BEOGC  000503860X   \n",
       "3      5.0      True   04 6, 2005  A12VPEOEZS1KTC  000503860X   \n",
       "4      5.0      True   12 3, 2010   ATLZNVLYKP9AZ  000503860X   \n",
       "\n",
       "                      style            reviewerName  \\\n",
       "0  {'Format:': ' VHS Tape'}                   Terri   \n",
       "1  {'Format:': ' VHS Tape'}  Melissa D. Abercrombie   \n",
       "2       {'Format:': ' DVD'}        Anthony Thompson   \n",
       "3       {'Format:': ' DVD'}                JadeRain   \n",
       "4       {'Format:': ' DVD'}               T. Fisher   \n",
       "\n",
       "                                          reviewText  \\\n",
       "0  So sorry I didn't purchase this years ago when...   \n",
       "1  Believe me when I tell you that you will recei...   \n",
       "2  I have seen X live many times, both in the ear...   \n",
       "3  I was so excited for this!  Finally, a live co...   \n",
       "4  X is one of the best punk bands ever. I don't ...   \n",
       "\n",
       "                               summary  unixReviewTime vote image  \n",
       "0                             Amazing!      1352419200  NaN   NaN  \n",
       "1  Great Gospel VHS of the Cathedrals!      1325203200  NaN   NaN  \n",
       "2     A great document of a great band      1114041600   11   NaN  \n",
       "3                      YES!!  X LIVE!!      1112745600    5   NaN  \n",
       "4                  X have still got it      1291334400    5   NaN  "
      ]
     },
     "execution_count": 5,
     "metadata": {},
     "output_type": "execute_result"
    }
   ],
   "source": [
    "df.head(5)"
   ]
  },
  {
   "cell_type": "markdown",
   "metadata": {},
   "source": [
    "We can see the different variables used in our subset of data. We will primarily be using the reviewerID (userId), the asin (Item ID), the reviewtext (for content based recommendation), and overall (the rating)."
   ]
  },
  {
   "cell_type": "code",
   "execution_count": 6,
   "metadata": {},
   "outputs": [
    {
     "data": {
      "text/html": [
       "<div>\n",
       "<style scoped>\n",
       "    .dataframe tbody tr th:only-of-type {\n",
       "        vertical-align: middle;\n",
       "    }\n",
       "\n",
       "    .dataframe tbody tr th {\n",
       "        vertical-align: top;\n",
       "    }\n",
       "\n",
       "    .dataframe thead th {\n",
       "        text-align: right;\n",
       "    }\n",
       "</style>\n",
       "<table border=\"1\" class=\"dataframe\">\n",
       "  <thead>\n",
       "    <tr style=\"text-align: right;\">\n",
       "      <th></th>\n",
       "      <th>overall</th>\n",
       "      <th>unixReviewTime</th>\n",
       "    </tr>\n",
       "  </thead>\n",
       "  <tbody>\n",
       "    <tr>\n",
       "      <th>count</th>\n",
       "      <td>3.410019e+06</td>\n",
       "      <td>3.410019e+06</td>\n",
       "    </tr>\n",
       "    <tr>\n",
       "      <th>mean</th>\n",
       "      <td>4.221320e+00</td>\n",
       "      <td>1.384551e+09</td>\n",
       "    </tr>\n",
       "    <tr>\n",
       "      <th>std</th>\n",
       "      <td>1.166456e+00</td>\n",
       "      <td>1.158514e+08</td>\n",
       "    </tr>\n",
       "    <tr>\n",
       "      <th>min</th>\n",
       "      <td>1.000000e+00</td>\n",
       "      <td>8.810208e+08</td>\n",
       "    </tr>\n",
       "    <tr>\n",
       "      <th>25%</th>\n",
       "      <td>4.000000e+00</td>\n",
       "      <td>1.363046e+09</td>\n",
       "    </tr>\n",
       "    <tr>\n",
       "      <th>50%</th>\n",
       "      <td>5.000000e+00</td>\n",
       "      <td>1.419811e+09</td>\n",
       "    </tr>\n",
       "    <tr>\n",
       "      <th>75%</th>\n",
       "      <td>5.000000e+00</td>\n",
       "      <td>1.457827e+09</td>\n",
       "    </tr>\n",
       "    <tr>\n",
       "      <th>max</th>\n",
       "      <td>5.000000e+00</td>\n",
       "      <td>1.538352e+09</td>\n",
       "    </tr>\n",
       "  </tbody>\n",
       "</table>\n",
       "</div>"
      ],
      "text/plain": [
       "            overall  unixReviewTime\n",
       "count  3.410019e+06    3.410019e+06\n",
       "mean   4.221320e+00    1.384551e+09\n",
       "std    1.166456e+00    1.158514e+08\n",
       "min    1.000000e+00    8.810208e+08\n",
       "25%    4.000000e+00    1.363046e+09\n",
       "50%    5.000000e+00    1.419811e+09\n",
       "75%    5.000000e+00    1.457827e+09\n",
       "max    5.000000e+00    1.538352e+09"
      ]
     },
     "execution_count": 6,
     "metadata": {},
     "output_type": "execute_result"
    }
   ],
   "source": [
    "df.describe()"
   ]
  },
  {
   "cell_type": "markdown",
   "metadata": {},
   "source": [
    "The majority of variables are strings. But we can see the distribution of the rating variables (overall). The majority of the data has a maximum rating of 5. We can see that as it's the median, so at least 50% of the data is 5's. The 25 percentile is already a 4, so the majority of reviews in this batch are very positive. As we can see in the bar chart below:"
   ]
  },
  {
   "cell_type": "code",
   "execution_count": 7,
   "metadata": {},
   "outputs": [
    {
     "data": {
      "text/plain": [
       "Text(0, 0.5, 'Count')"
      ]
     },
     "execution_count": 7,
     "metadata": {},
     "output_type": "execute_result"
    },
    {
     "data": {
      "image/png": "[encoded data removed]",
      "text/plain": [
       "<Figure size 432x288 with 1 Axes>"
      ]
     },
     "metadata": {
      "needs_background": "light"
     },
     "output_type": "display_data"
    }
   ],
   "source": [
    "import seaborn as sns\n",
    "# sns.set_theme(style=\"whitegrid\")\n",
    "values = [df['overall'].value_counts()[1.0],df['overall'].value_counts()[2.0],df['overall'].value_counts()[3.0],df['overall'].value_counts()[4.0],df['overall'].value_counts()[5.0]]\n",
    "bins_list = [1,2,3,4,5]\n",
    "ax = sns.barplot(x=bins_list, y=values)\n",
    "ax.set(title='Rating Distribution')\n",
    "ax.set_xlabel(\"Ratings\")\n",
    "ax.set_ylabel(\"Count\")"
   ]
  },
  {
   "cell_type": "code",
   "execution_count": 8,
   "metadata": {},
   "outputs": [
    {
     "data": {
      "text/plain": [
       "5.0    2028791\n",
       "4.0     665920\n",
       "3.0     349700\n",
       "1.0     193169\n",
       "2.0     172439\n",
       "Name: overall, dtype: int64"
      ]
     },
     "execution_count": 8,
     "metadata": {},
     "output_type": "execute_result"
    }
   ],
   "source": [
    "df['overall'].value_counts()"
   ]
  },
  {
   "cell_type": "markdown",
   "metadata": {},
   "source": [
    "Renaming columns and removing unneeded variables:"
   ]
  },
  {
   "cell_type": "code",
   "execution_count": 9,
   "metadata": {},
   "outputs": [],
   "source": [
    "columns = ['reviewerID','asin','overall']\n",
    "df = df[columns]\n",
    "df.columns = ['userID', 'itemID', 'rating']"
   ]
  },
  {
   "cell_type": "markdown",
   "metadata": {},
   "source": [
    "We initially only used the first 1,000,000 rows. Instead we decided to convert the core5 dataset into core15 meaning that each user has rated 15 items and each item has 15 ratings:"
   ]
  },
  {
   "cell_type": "code",
   "execution_count": 10,
   "metadata": {},
   "outputs": [],
   "source": [
    "#function to turn 5 core into k core.\n",
    "def narrow(df,name='userID', name2='itemID',k=10):\n",
    "\n",
    "    d1 = len(df)\n",
    "    users = df.groupby([name])[name2].count().reset_index()\n",
    "    userList = list(set(users[users[name2] > k][name]))\n",
    "\n",
    "    df2 = df[df[name].isin(userList)]\n",
    "\n",
    "    items = df2.groupby([name2])[name].count().reset_index()\n",
    "    itemList = list(set(items[items[name] > k][name2]))\n",
    "\n",
    "    df3 = df2[df2[name2].isin(itemList)]\n",
    "\n",
    "    if len(df3) == len(df2):\n",
    "        return df3\n",
    "\n",
    "    else:\n",
    "        return narrow(df3,name,name2)"
   ]
  },
  {
   "cell_type": "code",
   "execution_count": 11,
   "metadata": {},
   "outputs": [
    {
     "data": {
      "text/plain": [
       "1246518"
      ]
     },
     "execution_count": 11,
     "metadata": {},
     "output_type": "execute_result"
    }
   ],
   "source": [
    "df = narrow(df, k = 15)\n",
    "len(df)"
   ]
  },
  {
   "cell_type": "markdown",
   "metadata": {},
   "source": [
    "Rating Distribution of the Core 15 subset should be similar:"
   ]
  },
  {
   "cell_type": "code",
   "execution_count": 12,
   "metadata": {},
   "outputs": [
    {
     "data": {
      "text/plain": [
       "Text(0, 0.5, 'Count')"
      ]
     },
     "execution_count": 12,
     "metadata": {},
     "output_type": "execute_result"
    },
    {
     "data": {
      "image/png": "[encoded data removed]",
      "text/plain": [
       "<Figure size 432x288 with 1 Axes>"
      ]
     },
     "metadata": {},
     "output_type": "display_data"
    }
   ],
   "source": [
    "sns.set_theme(style=\"whitegrid\")\n",
    "values = [df['rating'].value_counts()[1.0],df['rating'].value_counts()[2.0],df['rating'].value_counts()[3.0],df['rating'].value_counts()[4.0],df['rating'].value_counts()[5.0]]\n",
    "bins_list = [1,2,3,4,5]\n",
    "ax = sns.barplot(x=bins_list, y=values)\n",
    "ax.set(title='Rating Distribution')\n",
    "ax.set_xlabel(\"Ratings\")\n",
    "ax.set_ylabel(\"Count\")"
   ]
  },
  {
   "cell_type": "markdown",
   "metadata": {},
   "source": [
    "#### Splitting Data:"
   ]
  },
  {
   "cell_type": "code",
   "execution_count": 13,
   "metadata": {},
   "outputs": [],
   "source": [
    "#function to split data into training testing\n",
    "def prep_data(df):\n",
    "  reader = Reader(rating_scale=(1, 5))\n",
    "  \n",
    "  data = Dataset.load_from_df(df[['userID', 'itemID', 'rating']], reader)\n",
    "  my_seed = 0\n",
    "  random.seed(my_seed)\n",
    "  np.random.seed(my_seed)\n",
    "\n",
    "  raw_ratings = data.raw_ratings\n",
    "\n",
    "  # shuffle ratings if you want\n",
    "  random.shuffle(raw_ratings)\n",
    "\n",
    "  # A = 80% of the data, B = 20% of the data\n",
    "  threshold = int(.8 * len(raw_ratings))\n",
    "  A_raw_ratings = raw_ratings[:threshold]\n",
    "  B_raw_ratings = raw_ratings[threshold:]\n",
    "\n",
    "  data.raw_ratings = A_raw_ratings\n",
    "\n",
    "  return data, B_raw_ratings"
   ]
  },
  {
   "cell_type": "code",
   "execution_count": 14,
   "metadata": {},
   "outputs": [],
   "source": [
    "# setting up data\n",
    "data, B_raw_ratings = prep_data(df)\n"
   ]
  },
  {
   "cell_type": "code",
   "execution_count": 15,
   "metadata": {},
   "outputs": [],
   "source": [
    "# setting up place holder for results\n",
    "columns=['algo','best_param','biased_rmse','un-biased_rmse','model_exec_ts']\n",
    "df_results = pd.DataFrame(columns=columns)\n",
    "df_results\n",
    "results = []\n",
    "#df for precision recall results @k 1 to 30\n",
    "df_results_pr = pd.DataFrame(columns=['algo','metric','1','2','3','4','5','6','7','8','9','10','11','12','13','14','15','16','17','18','19','20','21','22','23','24','25','26','27','28','29','30'])"
   ]
  },
  {
   "cell_type": "code",
   "execution_count": 16,
   "metadata": {},
   "outputs": [
    {
     "data": {
      "text/plain": [
       "(1246518, 3)"
      ]
     },
     "execution_count": 16,
     "metadata": {},
     "output_type": "execute_result"
    }
   ],
   "source": [
    "df.shape"
   ]
  },
  {
   "cell_type": "markdown",
   "metadata": {},
   "source": [
    "Grid Search helper function"
   ]
  },
  {
   "cell_type": "code",
   "execution_count": 17,
   "metadata": {},
   "outputs": [],
   "source": [
    "from collections import defaultdict"
   ]
  },
  {
   "cell_type": "code",
   "execution_count": 18,
   "metadata": {},
   "outputs": [],
   "source": [
    "def precision_recall_at_k(predictions, k=10, threshold=3.5):\n",
    "    \"\"\"Return precision and recall at k metrics for each user\"\"\"\n",
    "\n",
    "    # First map the predictions to each user.\n",
    "    user_est_true = defaultdict(list)\n",
    "    for uid, _, true_r, est, _ in predictions:\n",
    "        user_est_true[uid].append((est, true_r))\n",
    "\n",
    "    precisions = dict()\n",
    "    recalls = dict()\n",
    "    for uid, user_ratings in user_est_true.items():\n",
    "\n",
    "        # Sort user ratings by estimated value\n",
    "        user_ratings.sort(key=lambda x: x[0], reverse=True)\n",
    "\n",
    "        # Number of relevant items\n",
    "        n_rel = sum((true_r >= threshold) for (_, true_r) in user_ratings)\n",
    "\n",
    "        # Number of recommended items in top k\n",
    "        n_rec_k = sum((est >= threshold) for (est, _) in user_ratings[:k])\n",
    "\n",
    "        # Number of relevant and recommended items in top k\n",
    "        n_rel_and_rec_k = sum(((true_r >= threshold) and (est >= threshold))\n",
    "                              for (est, true_r) in user_ratings[:k])\n",
    "\n",
    "        # Precision@K: Proportion of recommended items that are relevant\n",
    "        # When n_rec_k is 0, Precision is undefined. We here set it to 0.\n",
    "\n",
    "        precisions[uid] = n_rel_and_rec_k / n_rec_k if n_rec_k != 0 else 0\n",
    "\n",
    "        # Recall@K: Proportion of relevant items that are recommended\n",
    "        # When n_rel is 0, Recall is undefined. We here set it to 0.\n",
    "\n",
    "        recalls[uid] = n_rel_and_rec_k / n_rel if n_rel != 0 else 0\n",
    "\n",
    "    return precisions, recalls"
   ]
  },
  {
   "cell_type": "code",
   "execution_count": 19,
   "metadata": {},
   "outputs": [],
   "source": [
    "def grid_search_cv(algo, param_grid, cv, measure, data, hold_out_data):\n",
    "  print('Grid Search...{0}'.format(algo))\n",
    "  grid_search = GridSearchCV(algo, \n",
    "                            param_grid, \n",
    "                            measures=[measure], \n",
    "                            cv=cv)\n",
    "  grid_search.fit(data)\n",
    "  \n",
    "  # grid search\n",
    "  print(\"Grid Search...Complete\")\n",
    "  print(\"Best Param of SVD\",grid_search.best_params[measure])\n",
    "  best_params_dict = grid_search.best_params[measure]\n",
    "  algo = grid_search.best_estimator[measure]\n",
    "  \n",
    "  # retrain on the whole set A\n",
    "  trainset = data.build_full_trainset()\n",
    "  algo.fit(trainset)\n",
    "  print(\"model traininig complete.\")\n",
    "  \n",
    "  # Compute biased accuracy on trainData\n",
    "  pb = algo.test(trainset.build_testset())\n",
    "  print('Biased accuracy on A,', end=' ')\n",
    "  baised_accuracy = accuracy.rmse(pb)\n",
    "  \n",
    "  \n",
    "  # Compute unbiased accuracy on testData\n",
    "  testset = data.construct_testset(B_raw_ratings)  # testset is now the set B\n",
    "  pub = algo.test(testset)\n",
    "    \n",
    "  #calculate precision recalls @k for k 1 to 15\n",
    "  p = []\n",
    "  r = []\n",
    "  for k in range(1,31):\n",
    "      precisions, recalls = precision_recall_at_k(pub, k=k, threshold=4)\n",
    "      precision = (sum(prec for prec in precisions.values()) / len(precisions))\n",
    "      recall = (sum(rec for rec in recalls.values()) / len(recalls))\n",
    "      p.append(precision)\n",
    "      r.append(recall)\n",
    "      \n",
    "    \n",
    "  print('Unbiased accuracy on B,', end=' ')\n",
    "  unbaised_accuracy = accuracy.rmse(pub)\n",
    "  \n",
    "\n",
    "  return unbaised_accuracy, baised_accuracy, best_params_dict , pub, p, r"
   ]
  },
  {
   "cell_type": "markdown",
   "metadata": {},
   "source": [
    "#### Matrix Factorization Models:"
   ]
  },
  {
   "cell_type": "markdown",
   "metadata": {},
   "source": [
    "SVD:"
   ]
  },
  {
   "cell_type": "code",
   "execution_count": 20,
   "metadata": {},
   "outputs": [
    {
     "name": "stdout",
     "output_type": "stream",
     "text": [
      "Grid Search...<class 'surprise.prediction_algorithms.matrix_factorization.SVD'>\n",
      "Grid Search...Complete\n",
      "Best Param of SVD {'n_factors': 1, 'lr_all': 0.01, 'reg_all': 0.1}\n",
      "model traininig complete.\n",
      "Biased accuracy on A, RMSE: 0.8691\n",
      "Unbiased accuracy on B, RMSE: 0.9182\n"
     ]
    }
   ],
   "source": [
    "# grid search \n",
    "algo=SVD\n",
    "# param_grid={'n_factors': [1,5,10,15,20],\n",
    "#             'lr_all': [0.005,0.01],\n",
    "#             'reg_all':[0.02,0.1,0.5]}\n",
    "\n",
    "# best parameter for SVD\n",
    "param_grid={'n_factors': [1],\n",
    "            'lr_all': [0.01],\n",
    "            'reg_all':[0.1]} \n",
    "\n",
    "cv=3\n",
    "measure=\"rmse\"\n",
    "results = []\n",
    "unbaised_accuracy, \\\n",
    "    baised_accuracy, \\\n",
    "      best_params_dict, pred_svd, p, r = grid_search_cv(algo, \n",
    "                                        param_grid, \n",
    "                                        cv, \n",
    "                                        measure,\n",
    "                                        data,\n",
    "                                        B_raw_ratings\n",
    "                                        )\n",
    "\n",
    "df_results.loc[len(df_results.index)] = [\"SVD\", \n",
    "                best_params_dict, \n",
    "                baised_accuracy, \n",
    "                unbaised_accuracy,\n",
    "                datetime.datetime.now()]\n",
    "df_results_pr.loc[len(df_results_pr.index)] = [\"SVD\",\"precision\"]+p\n",
    "df_results_pr.loc[len(df_results_pr.index)] = [\"SVD\",\"recall\"]+r"
   ]
  },
  {
   "cell_type": "code",
   "execution_count": 21,
   "metadata": {},
   "outputs": [
    {
     "data": {
      "text/html": [
       "<div>\n",
       "<style scoped>\n",
       "    .dataframe tbody tr th:only-of-type {\n",
       "        vertical-align: middle;\n",
       "    }\n",
       "\n",
       "    .dataframe tbody tr th {\n",
       "        vertical-align: top;\n",
       "    }\n",
       "\n",
       "    .dataframe thead th {\n",
       "        text-align: right;\n",
       "    }\n",
       "</style>\n",
       "<table border=\"1\" class=\"dataframe\">\n",
       "  <thead>\n",
       "    <tr style=\"text-align: right;\">\n",
       "      <th></th>\n",
       "      <th>algo</th>\n",
       "      <th>best_param</th>\n",
       "      <th>biased_rmse</th>\n",
       "      <th>un-biased_rmse</th>\n",
       "      <th>model_exec_ts</th>\n",
       "    </tr>\n",
       "  </thead>\n",
       "  <tbody>\n",
       "    <tr>\n",
       "      <th>0</th>\n",
       "      <td>SVD</td>\n",
       "      <td>{'n_factors': 1, 'lr_all': 0.01, 'reg_all': 0.1}</td>\n",
       "      <td>0.869096</td>\n",
       "      <td>0.918211</td>\n",
       "      <td>2022-03-18 16:37:23.113736</td>\n",
       "    </tr>\n",
       "  </tbody>\n",
       "</table>\n",
       "</div>"
      ],
      "text/plain": [
       "  algo                                        best_param  biased_rmse  \\\n",
       "0  SVD  {'n_factors': 1, 'lr_all': 0.01, 'reg_all': 0.1}     0.869096   \n",
       "\n",
       "   un-biased_rmse              model_exec_ts  \n",
       "0        0.918211 2022-03-18 16:37:23.113736  "
      ]
     },
     "execution_count": 21,
     "metadata": {},
     "output_type": "execute_result"
    }
   ],
   "source": [
    "df_results"
   ]
  },
  {
   "cell_type": "code",
   "execution_count": 22,
   "metadata": {},
   "outputs": [
    {
     "data": {
      "text/html": [
       "<div>\n",
       "<style scoped>\n",
       "    .dataframe tbody tr th:only-of-type {\n",
       "        vertical-align: middle;\n",
       "    }\n",
       "\n",
       "    .dataframe tbody tr th {\n",
       "        vertical-align: top;\n",
       "    }\n",
       "\n",
       "    .dataframe thead th {\n",
       "        text-align: right;\n",
       "    }\n",
       "</style>\n",
       "<table border=\"1\" class=\"dataframe\">\n",
       "  <thead>\n",
       "    <tr style=\"text-align: right;\">\n",
       "      <th></th>\n",
       "      <th>algo</th>\n",
       "      <th>metric</th>\n",
       "      <th>1</th>\n",
       "      <th>2</th>\n",
       "      <th>3</th>\n",
       "      <th>4</th>\n",
       "      <th>5</th>\n",
       "      <th>6</th>\n",
       "      <th>7</th>\n",
       "      <th>8</th>\n",
       "      <th>...</th>\n",
       "      <th>21</th>\n",
       "      <th>22</th>\n",
       "      <th>23</th>\n",
       "      <th>24</th>\n",
       "      <th>25</th>\n",
       "      <th>26</th>\n",
       "      <th>27</th>\n",
       "      <th>28</th>\n",
       "      <th>29</th>\n",
       "      <th>30</th>\n",
       "    </tr>\n",
       "  </thead>\n",
       "  <tbody>\n",
       "    <tr>\n",
       "      <th>0</th>\n",
       "      <td>SVD</td>\n",
       "      <td>precision</td>\n",
       "      <td>0.778426</td>\n",
       "      <td>0.770209</td>\n",
       "      <td>0.764663</td>\n",
       "      <td>0.760706</td>\n",
       "      <td>0.758745</td>\n",
       "      <td>0.757150</td>\n",
       "      <td>0.756064</td>\n",
       "      <td>0.755447</td>\n",
       "      <td>...</td>\n",
       "      <td>0.753612</td>\n",
       "      <td>0.753590</td>\n",
       "      <td>0.753564</td>\n",
       "      <td>0.753540</td>\n",
       "      <td>0.753519</td>\n",
       "      <td>0.753507</td>\n",
       "      <td>0.753477</td>\n",
       "      <td>0.753461</td>\n",
       "      <td>0.753447</td>\n",
       "      <td>0.753445</td>\n",
       "    </tr>\n",
       "    <tr>\n",
       "      <th>1</th>\n",
       "      <td>SVD</td>\n",
       "      <td>recall</td>\n",
       "      <td>0.248225</td>\n",
       "      <td>0.414868</td>\n",
       "      <td>0.522730</td>\n",
       "      <td>0.589079</td>\n",
       "      <td>0.630046</td>\n",
       "      <td>0.654626</td>\n",
       "      <td>0.669817</td>\n",
       "      <td>0.679744</td>\n",
       "      <td>...</td>\n",
       "      <td>0.706742</td>\n",
       "      <td>0.707123</td>\n",
       "      <td>0.707449</td>\n",
       "      <td>0.707721</td>\n",
       "      <td>0.707970</td>\n",
       "      <td>0.708187</td>\n",
       "      <td>0.708362</td>\n",
       "      <td>0.708524</td>\n",
       "      <td>0.708665</td>\n",
       "      <td>0.708802</td>\n",
       "    </tr>\n",
       "  </tbody>\n",
       "</table>\n",
       "<p>2 rows × 32 columns</p>\n",
       "</div>"
      ],
      "text/plain": [
       "  algo     metric         1         2         3         4         5         6  \\\n",
       "0  SVD  precision  0.778426  0.770209  0.764663  0.760706  0.758745  0.757150   \n",
       "1  SVD     recall  0.248225  0.414868  0.522730  0.589079  0.630046  0.654626   \n",
       "\n",
       "          7         8  ...        21        22        23        24        25  \\\n",
       "0  0.756064  0.755447  ...  0.753612  0.753590  0.753564  0.753540  0.753519   \n",
       "1  0.669817  0.679744  ...  0.706742  0.707123  0.707449  0.707721  0.707970   \n",
       "\n",
       "         26        27        28        29        30  \n",
       "0  0.753507  0.753477  0.753461  0.753447  0.753445  \n",
       "1  0.708187  0.708362  0.708524  0.708665  0.708802  \n",
       "\n",
       "[2 rows x 32 columns]"
      ]
     },
     "execution_count": 22,
     "metadata": {},
     "output_type": "execute_result"
    }
   ],
   "source": [
    "df_results_pr"
   ]
  },
  {
   "cell_type": "markdown",
   "metadata": {},
   "source": [
    "SVDpp:"
   ]
  },
  {
   "cell_type": "code",
   "execution_count": 23,
   "metadata": {},
   "outputs": [
    {
     "name": "stdout",
     "output_type": "stream",
     "text": [
      "Grid Search...<class 'surprise.prediction_algorithms.matrix_factorization.SVDpp'>\n",
      "Grid Search...Complete\n",
      "Best Param of SVD {'n_factors': 1, 'lr_all': 0.01, 'reg_all': 0.1}\n",
      "model traininig complete.\n",
      "Biased accuracy on A, RMSE: 0.8674\n",
      "Unbiased accuracy on B, RMSE: 0.9177\n"
     ]
    }
   ],
   "source": [
    "# grid search \n",
    "algo=SVDpp\n",
    "# param_grid={'n_factors': [1,5,10,15,20],\n",
    "#             'lr_all': [0.005,0.01],\n",
    "#             'reg_all':[0.02,0.1,0.5]}\n",
    "\n",
    "# best parameter for SVDpp\n",
    "param_grid={'n_factors': [1],\n",
    "            'lr_all': [0.01],\n",
    "            'reg_all':[0.1]}\n",
    "cv=3\n",
    "measure=\"rmse\"\n",
    "results = []\n",
    "unbaised_accuracy, \\\n",
    "    baised_accuracy, \\\n",
    "      best_params_dict, pred_svd, p, r = grid_search_cv(algo, \n",
    "                                        param_grid, \n",
    "                                        cv, \n",
    "                                        measure,\n",
    "                                        data,\n",
    "                                        B_raw_ratings\n",
    "                                        )\n",
    "\n",
    "df_results.loc[len(df_results.index)] = [\"SVDpp\", \n",
    "                best_params_dict, \n",
    "                baised_accuracy, \n",
    "                unbaised_accuracy,\n",
    "                datetime.datetime.now()]\n",
    "df_results_pr.loc[len(df_results_pr.index)] = [\"SVDpp\",\"precision\"]+p\n",
    "df_results_pr.loc[len(df_results_pr.index)] = [\"SVDpp\",\"recall\"]+r"
   ]
  },
  {
   "cell_type": "markdown",
   "metadata": {},
   "source": [
    "NMF:"
   ]
  },
  {
   "cell_type": "code",
   "execution_count": 24,
   "metadata": {},
   "outputs": [
    {
     "name": "stdout",
     "output_type": "stream",
     "text": [
      "Grid Search...<class 'surprise.prediction_algorithms.matrix_factorization.NMF'>\n",
      "Grid Search...Complete\n",
      "Best Param of SVD {'n_factors': 20, 'reg_pu': 0.06, 'reg_qi': 0.1, 'reg_bu': 0.06, 'lr_bi': 0.001, 'lr_bu': 0.001}\n",
      "model traininig complete.\n",
      "Biased accuracy on A, RMSE: 0.6338\n",
      "Unbiased accuracy on B, RMSE: 0.9434\n"
     ]
    }
   ],
   "source": [
    "# grid search \n",
    "algo=NMF\n",
    "# param_grid={'n_factors': [1,5,10,15,20],\n",
    "#             'reg_pu': [0.06,0.10],\n",
    "#             'reg_qi':[0.06,0.10],\n",
    "#             'reg_bu':[0.06,0.10],\n",
    "#             'lr_bi': [0.005,0.001],\n",
    "#             'lr_bu':[0.005,0.001]}\n",
    "\n",
    "# best param for NMF\n",
    "param_grid = {'n_factors': [20],\n",
    "            'reg_pu': [0.06],\n",
    "            'reg_qi':[0.10],\n",
    "            'reg_bu':[0.06],\n",
    "            'lr_bi': [0.001],\n",
    "            'lr_bu':[0.001]}\n",
    "\n",
    "cv=3\n",
    "measure=\"rmse\"\n",
    "results = []\n",
    "unbaised_accuracy, \\\n",
    "    baised_accuracy, \\\n",
    "      best_params_dict, pred_svd, p, r = grid_search_cv(algo, \n",
    "                                        param_grid, \n",
    "                                        cv, \n",
    "                                        measure,\n",
    "                                        data,\n",
    "                                        B_raw_ratings\n",
    "                                        )\n",
    "\n",
    "df_results.loc[len(df_results.index)] = [\"NMF\", \n",
    "                best_params_dict, \n",
    "                baised_accuracy, \n",
    "                unbaised_accuracy,\n",
    "                datetime.datetime.now()]\n",
    "df_results_pr.loc[len(df_results_pr.index)] = [\"NMF\",\"precision\"]+p\n",
    "df_results_pr.loc[len(df_results_pr.index)] = [\"NMF\",\"recall\"]+r"
   ]
  },
  {
   "cell_type": "markdown",
   "metadata": {},
   "source": [
    "#### KNN Models:"
   ]
  },
  {
   "cell_type": "markdown",
   "metadata": {},
   "source": [
    "KNNBasic:"
   ]
  },
  {
   "cell_type": "code",
   "execution_count": 25,
   "metadata": {},
   "outputs": [
    {
     "name": "stdout",
     "output_type": "stream",
     "text": [
      "Grid Search...<class 'surprise.prediction_algorithms.knns.KNNBasic'>\n",
      "Computing the pearson similarity matrix...\n",
      "Done computing similarity matrix.\n",
      "Computing the pearson similarity matrix...\n",
      "Done computing similarity matrix.\n",
      "Computing the pearson similarity matrix...\n",
      "Done computing similarity matrix.\n",
      "Grid Search...Complete\n",
      "Best Param of SVD {'k': 15, 'sim_options': {'name': 'pearson', 'min_support': 20, 'user_based': False}}\n",
      "Computing the pearson similarity matrix...\n",
      "Done computing similarity matrix.\n",
      "model traininig complete.\n",
      "Biased accuracy on A, RMSE: 0.2987\n",
      "Unbiased accuracy on B, RMSE: 1.0633\n"
     ]
    }
   ],
   "source": [
    "# grid search \n",
    "algo=KNNBasic\n",
    "\n",
    "#param_grid = {'k': [1,2,3,4,5,10,15,20,25,30,35,40],\n",
    "#              'sim_options': {'name': ['msd', 'cosine', 'pearson'],\n",
    "#                              'min_support': [1,2,5,10,20],\n",
    "#                             'user_based': [False]}\n",
    "\n",
    "\n",
    "# best param for KNNBasic\n",
    "param_grid = {'k': [15],\n",
    "              'sim_options': {'name': ['pearson'],\n",
    "                              'min_support': [20],\n",
    "                              'user_based': [False]}\n",
    "              }\n",
    "\n",
    "cv=3\n",
    "measure=\"rmse\"\n",
    "results = []\n",
    "unbaised_accuracy, \\\n",
    "    baised_accuracy, \\\n",
    "      best_params_dict, pred_svd, p, r = grid_search_cv(algo, \n",
    "                                        param_grid, \n",
    "                                        cv, \n",
    "                                        measure,\n",
    "                                        data,\n",
    "                                        B_raw_ratings\n",
    "                                        )\n",
    "\n",
    "df_results.loc[len(df_results.index)] = [\"KNNBasic\", \n",
    "                best_params_dict, \n",
    "                baised_accuracy, \n",
    "                unbaised_accuracy,\n",
    "                datetime.datetime.now()]\n",
    "df_results_pr.loc[len(df_results_pr.index)] = [\"KNNBasic\",\"precision\"]+p\n",
    "df_results_pr.loc[len(df_results_pr.index)] = [\"KNNBasic\",\"recall\"]+r"
   ]
  },
  {
   "cell_type": "markdown",
   "metadata": {},
   "source": [
    "KNNWithMeans:"
   ]
  },
  {
   "cell_type": "code",
   "execution_count": 26,
   "metadata": {},
   "outputs": [
    {
     "name": "stdout",
     "output_type": "stream",
     "text": [
      "Grid Search...<class 'surprise.prediction_algorithms.knns.KNNWithMeans'>\n",
      "Computing the pearson similarity matrix...\n",
      "Done computing similarity matrix.\n",
      "Computing the pearson similarity matrix...\n",
      "Done computing similarity matrix.\n",
      "Computing the pearson similarity matrix...\n",
      "Done computing similarity matrix.\n",
      "Grid Search...Complete\n",
      "Best Param of SVD {'k': 15, 'sim_options': {'name': 'pearson', 'min_support': 20, 'user_based': False}}\n",
      "Computing the pearson similarity matrix...\n",
      "Done computing similarity matrix.\n",
      "model traininig complete.\n",
      "Biased accuracy on A, RMSE: 0.2845\n",
      "Unbiased accuracy on B, RMSE: 0.9883\n"
     ]
    }
   ],
   "source": [
    "# grid search \n",
    "algo=KNNWithMeans\n",
    "\n",
    "#param_grid = {'k': [1,2,3,4,5,10,15,20,25,30,35,40],\n",
    "#              'sim_options': {'name': ['msd', 'cosine', 'pearson'],\n",
    "#                              'min_support': [1,2,5,10,20],\n",
    "#                             'user_based': [False]}\n",
    "#             }\n",
    "            \n",
    "\n",
    "# best param for KNNWithMeans\n",
    "param_grid = {'k': [15],\n",
    "              'sim_options': {'name': ['pearson'],\n",
    "                              'min_support': [20],\n",
    "                              'user_based': [False]}\n",
    "              }\n",
    "\n",
    "\n",
    "cv=3\n",
    "measure=\"rmse\"\n",
    "results = []\n",
    "unbaised_accuracy, \\\n",
    "    baised_accuracy, \\\n",
    "      best_params_dict, pred_svd, p, r = grid_search_cv(algo, \n",
    "                                        param_grid, \n",
    "                                        cv, \n",
    "                                        measure,\n",
    "                                        data,\n",
    "                                        B_raw_ratings\n",
    "                                        )\n",
    "\n",
    "df_results.loc[len(df_results.index)] = [\"KNNWithMeans\", \n",
    "                best_params_dict, \n",
    "                baised_accuracy, \n",
    "                unbaised_accuracy,\n",
    "                datetime.datetime.now()]\n",
    "df_results_pr.loc[len(df_results_pr.index)] = [\"KNNWithMeans\",\"precision\"]+p\n",
    "df_results_pr.loc[len(df_results_pr.index)] = [\"KNNWithMeans\",\"recall\"]+r"
   ]
  },
  {
   "cell_type": "markdown",
   "metadata": {},
   "source": [
    "KNNWithZScore:"
   ]
  },
  {
   "cell_type": "code",
   "execution_count": 27,
   "metadata": {},
   "outputs": [
    {
     "name": "stdout",
     "output_type": "stream",
     "text": [
      "Grid Search...<class 'surprise.prediction_algorithms.knns.KNNWithZScore'>\n",
      "Computing the pearson similarity matrix...\n",
      "Done computing similarity matrix.\n",
      "Computing the pearson similarity matrix...\n",
      "Done computing similarity matrix.\n",
      "Computing the pearson similarity matrix...\n",
      "Done computing similarity matrix.\n",
      "Grid Search...Complete\n",
      "Best Param of SVD {'k': 20, 'sim_options': {'name': 'pearson', 'min_support': 20, 'user_based': False}}\n",
      "Computing the pearson similarity matrix...\n",
      "Done computing similarity matrix.\n",
      "model traininig complete.\n",
      "Biased accuracy on A, RMSE: 0.2870\n",
      "Unbiased accuracy on B, RMSE: 0.9880\n"
     ]
    }
   ],
   "source": [
    "# grid search \n",
    "algo=KNNWithZScore\n",
    "\n",
    "#param_grid = {'k': [1,2,3,4,5,10,15,20,25,30,35,40],\n",
    "#              'sim_options': {'name': ['msd', 'cosine', 'pearson'],\n",
    "#                              'min_support': [1,2,5,10,20],\n",
    "#                             'user_based': [False]}\n",
    "#             }\n",
    "            \n",
    "\n",
    "# best param for KNNWithZScore\n",
    "param_grid = {'k': [20],\n",
    "              'sim_options': {'name': ['pearson'],\n",
    "                              'min_support': [20],\n",
    "                              'user_based': [False]}\n",
    "              }\n",
    "\n",
    "\n",
    "cv=3\n",
    "measure=\"rmse\"\n",
    "results = []\n",
    "unbaised_accuracy, \\\n",
    "    baised_accuracy, \\\n",
    "      best_params_dict, pred_svd, p, r = grid_search_cv(algo, \n",
    "                                        param_grid, \n",
    "                                        cv, \n",
    "                                        measure,\n",
    "                                        data,\n",
    "                                        B_raw_ratings\n",
    "                                        )\n",
    "\n",
    "df_results.loc[len(df_results.index)] = [\"KNNWithZScore\", \n",
    "                best_params_dict, \n",
    "                baised_accuracy, \n",
    "                unbaised_accuracy,\n",
    "                datetime.datetime.now()]\n",
    "df_results_pr.loc[len(df_results_pr.index)] = [\"KNNWithZScore\",\"precision\"]+p\n",
    "df_results_pr.loc[len(df_results_pr.index)] = [\"KNNWithZScore\",\"recall\"]+r"
   ]
  },
  {
   "cell_type": "markdown",
   "metadata": {},
   "source": [
    "KNNBaseline (als)"
   ]
  },
  {
   "cell_type": "code",
   "execution_count": 28,
   "metadata": {},
   "outputs": [
    {
     "name": "stdout",
     "output_type": "stream",
     "text": [
      "Grid Search...<class 'surprise.prediction_algorithms.knns.KNNBaseline'>\n",
      "Estimating biases using als...\n",
      "Computing the pearson similarity matrix...\n",
      "Done computing similarity matrix.\n",
      "Estimating biases using als...\n",
      "Computing the pearson similarity matrix...\n",
      "Done computing similarity matrix.\n",
      "Estimating biases using als...\n",
      "Computing the pearson similarity matrix...\n",
      "Done computing similarity matrix.\n",
      "Grid Search...Complete\n",
      "Best Param of SVD {'k': 20, 'sim_options': {'name': 'pearson', 'min_support': 20, 'user_based': False}, 'bsl_options': {'method': 'als', 'n_epochs': 50, 'reg_i': 2, 'reg_u': 2}}\n",
      "Estimating biases using als...\n",
      "Computing the pearson similarity matrix...\n",
      "Done computing similarity matrix.\n",
      "model traininig complete.\n",
      "Biased accuracy on A, RMSE: 0.2850\n",
      "Unbiased accuracy on B, RMSE: 0.9033\n"
     ]
    }
   ],
   "source": [
    "# grid search \n",
    "algo=KNNBaseline\n",
    "\n",
    "#sim_options were optimized first, followed by bsl options, and k. Running it all at the same time would take too long.\n",
    "#param_grid = {'k': [1,2,3,4,5,10,15,20,25,30,35,40],\n",
    "#              'sim_options': {'name': ['msd', 'cosine', 'pearson'],\n",
    "#                              'min_support': [1,2,5,10,20],\n",
    "#                             'user_based': [False]},\n",
    "#              'bsl_options': {'method': ['als'],\n",
    "#                             'n_epochs': [1,2,5,10,20,50],\n",
    "#                             'reg_i': [1,2,5,10,15,20],\n",
    "#                             'reg_u': [1,2,5,10,15,20]}\n",
    "#             }\n",
    "            \n",
    "\n",
    "# best param for KNNBaseline\n",
    "param_grid = {'k': [20],\n",
    "            'sim_options': {'name': ['pearson'],\n",
    "                            'min_support': [20],\n",
    "                            'user_based': [False]},\n",
    "             'bsl_options': {'method': ['als'],\n",
    "                             'n_epochs': [50],\n",
    "                             'reg_i': [2],\n",
    "                             'reg_u': [2]}\n",
    "             }\n",
    "cv=3\n",
    "measure=\"rmse\"\n",
    "results = []\n",
    "unbaised_accuracy, \\\n",
    "    baised_accuracy, \\\n",
    "      best_params_dict, pred_svd, p, r = grid_search_cv(algo, \n",
    "                                        param_grid, \n",
    "                                        cv, \n",
    "                                        measure,\n",
    "                                        data,\n",
    "                                        B_raw_ratings\n",
    "                                        )\n",
    "\n",
    "df_results.loc[len(df_results.index)] = [\"KNNBaseline_ALS\", \n",
    "                best_params_dict, \n",
    "                baised_accuracy, \n",
    "                unbaised_accuracy,\n",
    "                datetime.datetime.now()]\n",
    "df_results_pr.loc[len(df_results_pr.index)] = [\"KNNBaseline_ALS\",\"precision\"]+p\n",
    "df_results_pr.loc[len(df_results_pr.index)] = [\"KNNBaseline_ALS\",\"recall\"]+r"
   ]
  },
  {
   "cell_type": "markdown",
   "metadata": {},
   "source": [
    "KNNBaseline (sgd)"
   ]
  },
  {
   "cell_type": "code",
   "execution_count": 29,
   "metadata": {},
   "outputs": [
    {
     "name": "stdout",
     "output_type": "stream",
     "text": [
      "Grid Search...<class 'surprise.prediction_algorithms.knns.KNNBaseline'>\n",
      "Estimating biases using sgd...\n",
      "Computing the pearson similarity matrix...\n",
      "Done computing similarity matrix.\n",
      "Estimating biases using sgd...\n",
      "Computing the pearson similarity matrix...\n",
      "Done computing similarity matrix.\n",
      "Estimating biases using sgd...\n",
      "Computing the pearson similarity matrix...\n",
      "Done computing similarity matrix.\n",
      "Grid Search...Complete\n",
      "Best Param of SVD {'k': 15, 'sim_options': {'name': 'pearson', 'min_support': 20, 'user_based': False}, 'bsl_options': {'method': 'sgd', 'n_epochs': 50, 'reg': 0.1, 'learning_rate': 0.005}}\n",
      "Estimating biases using sgd...\n",
      "Computing the pearson similarity matrix...\n",
      "Done computing similarity matrix.\n",
      "model traininig complete.\n",
      "Biased accuracy on A, RMSE: 0.2837\n",
      "Unbiased accuracy on B, RMSE: 0.9051\n"
     ]
    }
   ],
   "source": [
    "# grid search \n",
    "algo=KNNBaseline\n",
    "\n",
    "#sim_options were optimized first, followed by bsl options, and k. Running it all at the same time would take too long.\n",
    "#param_grid = {'k': [1,2,3,4,5,10,15,20,25,30,35,40],\n",
    "#              'sim_options': {'name': ['msd', 'cosine', 'pearson'],\n",
    "#                              'min_support': [1,2,5,10,20],\n",
    "#                             'user_based': [False]},\n",
    "#              'bsl_options': {'method': ['als'],\n",
    "#                             'n_epochs': [1,2,5,10,20,50],\n",
    "#                             'reg': [.001,.01,.02,.1,1],\n",
    "#                             'learning_rate': [.00005,.0005,.005,.05,.5]}\n",
    "#             }\n",
    "            \n",
    "\n",
    "# best param for KNNBaseline\n",
    "param_grid = {'k': [15],\n",
    "              'sim_options': {'name': ['pearson'],\n",
    "                              'min_support': [20],\n",
    "                             'user_based': [False]},\n",
    "              'bsl_options': {'method': ['sgd'],\n",
    "                              'n_epochs': [50],\n",
    "                              'reg': [.1],\n",
    "                              'learning_rate': [.005]}\n",
    "                              }\n",
    "             \n",
    "\n",
    "cv=3\n",
    "measure=\"rmse\"\n",
    "results = []\n",
    "unbaised_accuracy, \\\n",
    "    baised_accuracy, \\\n",
    "      best_params_dict, pred_svd, p, r = grid_search_cv(algo, \n",
    "                                        param_grid, \n",
    "                                        cv, \n",
    "                                        measure,\n",
    "                                        data,\n",
    "                                        B_raw_ratings\n",
    "                                        )\n",
    "\n",
    "df_results.loc[len(df_results.index)] = [\"KNNBaseline_SGD\", \n",
    "                best_params_dict, \n",
    "                baised_accuracy, \n",
    "                unbaised_accuracy,\n",
    "                datetime.datetime.now()]\n",
    "df_results_pr.loc[len(df_results_pr.index)] = [\"KNNBaseline_SGD\",\"precision\"]+p\n",
    "df_results_pr.loc[len(df_results_pr.index)] = [\"KNNBaseline_SGD\",\"recall\"]+r"
   ]
  },
  {
   "cell_type": "markdown",
   "metadata": {},
   "source": [
    "#### Slope One"
   ]
  },
  {
   "cell_type": "code",
   "execution_count": 30,
   "metadata": {},
   "outputs": [
    {
     "name": "stdout",
     "output_type": "stream",
     "text": [
      "Grid Search...<class 'surprise.prediction_algorithms.slope_one.SlopeOne'>\n",
      "Grid Search...Complete\n",
      "Best Param of SVD {}\n",
      "model traininig complete.\n",
      "Biased accuracy on A, RMSE: 0.4435\n",
      "Unbiased accuracy on B, RMSE: 0.9499\n"
     ]
    }
   ],
   "source": [
    "algo=SlopeOne\n",
    "      \n",
    "\n",
    "param_grid = {\n",
    "             }\n",
    "\n",
    "cv=3\n",
    "measure=\"rmse\"\n",
    "results = []\n",
    "unbaised_accuracy, \\\n",
    "    baised_accuracy, \\\n",
    "      best_params_dict, pred_svd, p, r = grid_search_cv(algo, \n",
    "                                        param_grid, \n",
    "                                        cv, \n",
    "                                        measure,\n",
    "                                        data,\n",
    "                                        B_raw_ratings\n",
    "                                        )\n",
    "\n",
    "df_results.loc[len(df_results.index)] = [\"SlopeOne\", \n",
    "                best_params_dict, \n",
    "                baised_accuracy, \n",
    "                unbaised_accuracy,\n",
    "                datetime.datetime.now()]\n",
    "df_results_pr.loc[len(df_results_pr.index)] = [\"SlopeOne\",\"precision\"]+p\n",
    "df_results_pr.loc[len(df_results_pr.index)] = [\"SlopeOne\",\"recall\"]+r"
   ]
  },
  {
   "cell_type": "markdown",
   "metadata": {},
   "source": [
    "#### Co Clustering"
   ]
  },
  {
   "cell_type": "code",
   "execution_count": 31,
   "metadata": {},
   "outputs": [
    {
     "name": "stdout",
     "output_type": "stream",
     "text": [
      "Grid Search...<class 'surprise.prediction_algorithms.co_clustering.CoClustering'>\n",
      "Grid Search...Complete\n",
      "Best Param of SVD {'n_epochs': 11, 'n_cltr_i': 3, 'n_cltr_u': 2}\n",
      "model traininig complete.\n",
      "Biased accuracy on A, RMSE: 0.8749\n",
      "Unbiased accuracy on B, RMSE: 0.9519\n"
     ]
    }
   ],
   "source": [
    "# grid search \n",
    "algo=CoClustering\n",
    "\n",
    "\n",
    "            \n",
    "# best param for CoClustering\n",
    "param_grid = {'n_epochs': [11],\n",
    "              'n_cltr_i':[3],\n",
    "              'n_cltr_u':[2]\n",
    "             }\n",
    "\n",
    "cv=3\n",
    "measure=\"rmse\"\n",
    "results = []\n",
    "unbaised_accuracy, \\\n",
    "    baised_accuracy, \\\n",
    "      best_params_dict, pred_svd, p, r = grid_search_cv(algo, \n",
    "                                        param_grid, \n",
    "                                        cv, \n",
    "                                        measure,\n",
    "                                        data,\n",
    "                                        B_raw_ratings\n",
    "                                        )\n",
    "\n",
    "df_results.loc[len(df_results.index)] = [\"CoClustering\", \n",
    "                best_params_dict, \n",
    "                baised_accuracy, \n",
    "                unbaised_accuracy,\n",
    "                datetime.datetime.now()]\n",
    "df_results_pr.loc[len(df_results_pr.index)] = [\"CoClustering\",\"precision\"]+p\n",
    "df_results_pr.loc[len(df_results_pr.index)] = [\"CoClustering\",\"recall\"]+r"
   ]
  },
  {
   "cell_type": "markdown",
   "metadata": {},
   "source": [
    "### Evaluation RESULTS"
   ]
  },
  {
   "cell_type": "code",
   "execution_count": 32,
   "metadata": {},
   "outputs": [
    {
     "data": {
      "text/html": [
       "<div>\n",
       "<style scoped>\n",
       "    .dataframe tbody tr th:only-of-type {\n",
       "        vertical-align: middle;\n",
       "    }\n",
       "\n",
       "    .dataframe tbody tr th {\n",
       "        vertical-align: top;\n",
       "    }\n",
       "\n",
       "    .dataframe thead th {\n",
       "        text-align: right;\n",
       "    }\n",
       "</style>\n",
       "<table border=\"1\" class=\"dataframe\">\n",
       "  <thead>\n",
       "    <tr style=\"text-align: right;\">\n",
       "      <th></th>\n",
       "      <th>algo</th>\n",
       "      <th>best_param</th>\n",
       "      <th>biased_rmse</th>\n",
       "      <th>un-biased_rmse</th>\n",
       "      <th>model_exec_ts</th>\n",
       "    </tr>\n",
       "  </thead>\n",
       "  <tbody>\n",
       "    <tr>\n",
       "      <th>0</th>\n",
       "      <td>SVD</td>\n",
       "      <td>{'n_factors': 1, 'lr_all': 0.01, 'reg_all': 0.1}</td>\n",
       "      <td>0.869096</td>\n",
       "      <td>0.918211</td>\n",
       "      <td>2022-03-18 16:37:23.113736</td>\n",
       "    </tr>\n",
       "    <tr>\n",
       "      <th>1</th>\n",
       "      <td>SVDpp</td>\n",
       "      <td>{'n_factors': 1, 'lr_all': 0.01, 'reg_all': 0.1}</td>\n",
       "      <td>0.867387</td>\n",
       "      <td>0.917741</td>\n",
       "      <td>2022-03-18 16:53:30.085732</td>\n",
       "    </tr>\n",
       "    <tr>\n",
       "      <th>2</th>\n",
       "      <td>NMF</td>\n",
       "      <td>{'n_factors': 20, 'reg_pu': 0.06, 'reg_qi': 0....</td>\n",
       "      <td>0.633783</td>\n",
       "      <td>0.943373</td>\n",
       "      <td>2022-03-18 16:57:08.372618</td>\n",
       "    </tr>\n",
       "    <tr>\n",
       "      <th>3</th>\n",
       "      <td>KNNBasic</td>\n",
       "      <td>{'k': 15, 'sim_options': {'name': 'pearson', '...</td>\n",
       "      <td>0.298730</td>\n",
       "      <td>1.063311</td>\n",
       "      <td>2022-03-18 17:07:13.483841</td>\n",
       "    </tr>\n",
       "    <tr>\n",
       "      <th>4</th>\n",
       "      <td>KNNWithMeans</td>\n",
       "      <td>{'k': 15, 'sim_options': {'name': 'pearson', '...</td>\n",
       "      <td>0.284455</td>\n",
       "      <td>0.988297</td>\n",
       "      <td>2022-03-18 17:16:42.100305</td>\n",
       "    </tr>\n",
       "    <tr>\n",
       "      <th>5</th>\n",
       "      <td>KNNWithZScore</td>\n",
       "      <td>{'k': 20, 'sim_options': {'name': 'pearson', '...</td>\n",
       "      <td>0.287022</td>\n",
       "      <td>0.988013</td>\n",
       "      <td>2022-03-18 17:26:10.342948</td>\n",
       "    </tr>\n",
       "    <tr>\n",
       "      <th>6</th>\n",
       "      <td>KNNBaseline_ALS</td>\n",
       "      <td>{'k': 20, 'sim_options': {'name': 'pearson', '...</td>\n",
       "      <td>0.285028</td>\n",
       "      <td>0.903295</td>\n",
       "      <td>2022-03-18 17:36:14.927870</td>\n",
       "    </tr>\n",
       "    <tr>\n",
       "      <th>7</th>\n",
       "      <td>KNNBaseline_SGD</td>\n",
       "      <td>{'k': 15, 'sim_options': {'name': 'pearson', '...</td>\n",
       "      <td>0.283718</td>\n",
       "      <td>0.905093</td>\n",
       "      <td>2022-03-18 17:47:35.244981</td>\n",
       "    </tr>\n",
       "    <tr>\n",
       "      <th>8</th>\n",
       "      <td>SlopeOne</td>\n",
       "      <td>{}</td>\n",
       "      <td>0.443522</td>\n",
       "      <td>0.949918</td>\n",
       "      <td>2022-03-18 17:50:35.603687</td>\n",
       "    </tr>\n",
       "    <tr>\n",
       "      <th>9</th>\n",
       "      <td>CoClustering</td>\n",
       "      <td>{'n_epochs': 11, 'n_cltr_i': 3, 'n_cltr_u': 2}</td>\n",
       "      <td>0.874933</td>\n",
       "      <td>0.951862</td>\n",
       "      <td>2022-03-18 17:51:51.610671</td>\n",
       "    </tr>\n",
       "  </tbody>\n",
       "</table>\n",
       "</div>"
      ],
      "text/plain": [
       "              algo                                         best_param  \\\n",
       "0              SVD   {'n_factors': 1, 'lr_all': 0.01, 'reg_all': 0.1}   \n",
       "1            SVDpp   {'n_factors': 1, 'lr_all': 0.01, 'reg_all': 0.1}   \n",
       "2              NMF  {'n_factors': 20, 'reg_pu': 0.06, 'reg_qi': 0....   \n",
       "3         KNNBasic  {'k': 15, 'sim_options': {'name': 'pearson', '...   \n",
       "4     KNNWithMeans  {'k': 15, 'sim_options': {'name': 'pearson', '...   \n",
       "5    KNNWithZScore  {'k': 20, 'sim_options': {'name': 'pearson', '...   \n",
       "6  KNNBaseline_ALS  {'k': 20, 'sim_options': {'name': 'pearson', '...   \n",
       "7  KNNBaseline_SGD  {'k': 15, 'sim_options': {'name': 'pearson', '...   \n",
       "8         SlopeOne                                                 {}   \n",
       "9     CoClustering     {'n_epochs': 11, 'n_cltr_i': 3, 'n_cltr_u': 2}   \n",
       "\n",
       "   biased_rmse  un-biased_rmse              model_exec_ts  \n",
       "0     0.869096        0.918211 2022-03-18 16:37:23.113736  \n",
       "1     0.867387        0.917741 2022-03-18 16:53:30.085732  \n",
       "2     0.633783        0.943373 2022-03-18 16:57:08.372618  \n",
       "3     0.298730        1.063311 2022-03-18 17:07:13.483841  \n",
       "4     0.284455        0.988297 2022-03-18 17:16:42.100305  \n",
       "5     0.287022        0.988013 2022-03-18 17:26:10.342948  \n",
       "6     0.285028        0.903295 2022-03-18 17:36:14.927870  \n",
       "7     0.283718        0.905093 2022-03-18 17:47:35.244981  \n",
       "8     0.443522        0.949918 2022-03-18 17:50:35.603687  \n",
       "9     0.874933        0.951862 2022-03-18 17:51:51.610671  "
      ]
     },
     "execution_count": 32,
     "metadata": {},
     "output_type": "execute_result"
    }
   ],
   "source": [
    "df_results"
   ]
  },
  {
   "cell_type": "markdown",
   "metadata": {},
   "source": [
    "Precision/Recall Results for K=1 to K=30."
   ]
  },
  {
   "cell_type": "code",
   "execution_count": 33,
   "metadata": {},
   "outputs": [
    {
     "data": {
      "text/html": [
       "<div>\n",
       "<style scoped>\n",
       "    .dataframe tbody tr th:only-of-type {\n",
       "        vertical-align: middle;\n",
       "    }\n",
       "\n",
       "    .dataframe tbody tr th {\n",
       "        vertical-align: top;\n",
       "    }\n",
       "\n",
       "    .dataframe thead th {\n",
       "        text-align: right;\n",
       "    }\n",
       "</style>\n",
       "<table border=\"1\" class=\"dataframe\">\n",
       "  <thead>\n",
       "    <tr style=\"text-align: right;\">\n",
       "      <th></th>\n",
       "      <th>algo</th>\n",
       "      <th>metric</th>\n",
       "      <th>1</th>\n",
       "      <th>2</th>\n",
       "      <th>3</th>\n",
       "      <th>4</th>\n",
       "      <th>5</th>\n",
       "      <th>6</th>\n",
       "      <th>7</th>\n",
       "      <th>8</th>\n",
       "      <th>...</th>\n",
       "      <th>21</th>\n",
       "      <th>22</th>\n",
       "      <th>23</th>\n",
       "      <th>24</th>\n",
       "      <th>25</th>\n",
       "      <th>26</th>\n",
       "      <th>27</th>\n",
       "      <th>28</th>\n",
       "      <th>29</th>\n",
       "      <th>30</th>\n",
       "    </tr>\n",
       "  </thead>\n",
       "  <tbody>\n",
       "    <tr>\n",
       "      <th>0</th>\n",
       "      <td>SVD</td>\n",
       "      <td>precision</td>\n",
       "      <td>0.778426</td>\n",
       "      <td>0.770209</td>\n",
       "      <td>0.764663</td>\n",
       "      <td>0.760706</td>\n",
       "      <td>0.758745</td>\n",
       "      <td>0.757150</td>\n",
       "      <td>0.756064</td>\n",
       "      <td>0.755447</td>\n",
       "      <td>...</td>\n",
       "      <td>0.753612</td>\n",
       "      <td>0.753590</td>\n",
       "      <td>0.753564</td>\n",
       "      <td>0.753540</td>\n",
       "      <td>0.753519</td>\n",
       "      <td>0.753507</td>\n",
       "      <td>0.753477</td>\n",
       "      <td>0.753461</td>\n",
       "      <td>0.753447</td>\n",
       "      <td>0.753445</td>\n",
       "    </tr>\n",
       "    <tr>\n",
       "      <th>1</th>\n",
       "      <td>SVD</td>\n",
       "      <td>recall</td>\n",
       "      <td>0.248225</td>\n",
       "      <td>0.414868</td>\n",
       "      <td>0.522730</td>\n",
       "      <td>0.589079</td>\n",
       "      <td>0.630046</td>\n",
       "      <td>0.654626</td>\n",
       "      <td>0.669817</td>\n",
       "      <td>0.679744</td>\n",
       "      <td>...</td>\n",
       "      <td>0.706742</td>\n",
       "      <td>0.707123</td>\n",
       "      <td>0.707449</td>\n",
       "      <td>0.707721</td>\n",
       "      <td>0.707970</td>\n",
       "      <td>0.708187</td>\n",
       "      <td>0.708362</td>\n",
       "      <td>0.708524</td>\n",
       "      <td>0.708665</td>\n",
       "      <td>0.708802</td>\n",
       "    </tr>\n",
       "    <tr>\n",
       "      <th>2</th>\n",
       "      <td>SVDpp</td>\n",
       "      <td>precision</td>\n",
       "      <td>0.778759</td>\n",
       "      <td>0.770683</td>\n",
       "      <td>0.764778</td>\n",
       "      <td>0.761050</td>\n",
       "      <td>0.758867</td>\n",
       "      <td>0.757406</td>\n",
       "      <td>0.756344</td>\n",
       "      <td>0.755754</td>\n",
       "      <td>...</td>\n",
       "      <td>0.753913</td>\n",
       "      <td>0.753880</td>\n",
       "      <td>0.753860</td>\n",
       "      <td>0.753840</td>\n",
       "      <td>0.753820</td>\n",
       "      <td>0.753807</td>\n",
       "      <td>0.753783</td>\n",
       "      <td>0.753772</td>\n",
       "      <td>0.753753</td>\n",
       "      <td>0.753748</td>\n",
       "    </tr>\n",
       "    <tr>\n",
       "      <th>3</th>\n",
       "      <td>SVDpp</td>\n",
       "      <td>recall</td>\n",
       "      <td>0.248395</td>\n",
       "      <td>0.415227</td>\n",
       "      <td>0.522707</td>\n",
       "      <td>0.589233</td>\n",
       "      <td>0.630028</td>\n",
       "      <td>0.654659</td>\n",
       "      <td>0.669930</td>\n",
       "      <td>0.679843</td>\n",
       "      <td>...</td>\n",
       "      <td>0.706818</td>\n",
       "      <td>0.707189</td>\n",
       "      <td>0.707519</td>\n",
       "      <td>0.707796</td>\n",
       "      <td>0.708046</td>\n",
       "      <td>0.708266</td>\n",
       "      <td>0.708445</td>\n",
       "      <td>0.708611</td>\n",
       "      <td>0.708751</td>\n",
       "      <td>0.708887</td>\n",
       "    </tr>\n",
       "    <tr>\n",
       "      <th>4</th>\n",
       "      <td>NMF</td>\n",
       "      <td>precision</td>\n",
       "      <td>0.783443</td>\n",
       "      <td>0.776724</td>\n",
       "      <td>0.772910</td>\n",
       "      <td>0.770058</td>\n",
       "      <td>0.768196</td>\n",
       "      <td>0.766989</td>\n",
       "      <td>0.766253</td>\n",
       "      <td>0.765883</td>\n",
       "      <td>...</td>\n",
       "      <td>0.764482</td>\n",
       "      <td>0.764441</td>\n",
       "      <td>0.764408</td>\n",
       "      <td>0.764400</td>\n",
       "      <td>0.764386</td>\n",
       "      <td>0.764376</td>\n",
       "      <td>0.764367</td>\n",
       "      <td>0.764363</td>\n",
       "      <td>0.764345</td>\n",
       "      <td>0.764334</td>\n",
       "    </tr>\n",
       "    <tr>\n",
       "      <th>5</th>\n",
       "      <td>NMF</td>\n",
       "      <td>recall</td>\n",
       "      <td>0.249464</td>\n",
       "      <td>0.411891</td>\n",
       "      <td>0.514914</td>\n",
       "      <td>0.577397</td>\n",
       "      <td>0.615273</td>\n",
       "      <td>0.637960</td>\n",
       "      <td>0.652051</td>\n",
       "      <td>0.661086</td>\n",
       "      <td>...</td>\n",
       "      <td>0.685850</td>\n",
       "      <td>0.686190</td>\n",
       "      <td>0.686476</td>\n",
       "      <td>0.686740</td>\n",
       "      <td>0.686971</td>\n",
       "      <td>0.687162</td>\n",
       "      <td>0.687327</td>\n",
       "      <td>0.687482</td>\n",
       "      <td>0.687609</td>\n",
       "      <td>0.687730</td>\n",
       "    </tr>\n",
       "    <tr>\n",
       "      <th>6</th>\n",
       "      <td>KNNBasic</td>\n",
       "      <td>precision</td>\n",
       "      <td>0.837275</td>\n",
       "      <td>0.825872</td>\n",
       "      <td>0.819865</td>\n",
       "      <td>0.815569</td>\n",
       "      <td>0.813824</td>\n",
       "      <td>0.813039</td>\n",
       "      <td>0.812424</td>\n",
       "      <td>0.811964</td>\n",
       "      <td>...</td>\n",
       "      <td>0.810519</td>\n",
       "      <td>0.810491</td>\n",
       "      <td>0.810476</td>\n",
       "      <td>0.810451</td>\n",
       "      <td>0.810429</td>\n",
       "      <td>0.810416</td>\n",
       "      <td>0.810409</td>\n",
       "      <td>0.810390</td>\n",
       "      <td>0.810389</td>\n",
       "      <td>0.810371</td>\n",
       "    </tr>\n",
       "    <tr>\n",
       "      <th>7</th>\n",
       "      <td>KNNBasic</td>\n",
       "      <td>recall</td>\n",
       "      <td>0.280711</td>\n",
       "      <td>0.487692</td>\n",
       "      <td>0.631676</td>\n",
       "      <td>0.723636</td>\n",
       "      <td>0.781726</td>\n",
       "      <td>0.817964</td>\n",
       "      <td>0.840881</td>\n",
       "      <td>0.855671</td>\n",
       "      <td>...</td>\n",
       "      <td>0.897369</td>\n",
       "      <td>0.898015</td>\n",
       "      <td>0.898574</td>\n",
       "      <td>0.899047</td>\n",
       "      <td>0.899488</td>\n",
       "      <td>0.899859</td>\n",
       "      <td>0.900204</td>\n",
       "      <td>0.900498</td>\n",
       "      <td>0.900791</td>\n",
       "      <td>0.901026</td>\n",
       "    </tr>\n",
       "    <tr>\n",
       "      <th>8</th>\n",
       "      <td>KNNWithMeans</td>\n",
       "      <td>precision</td>\n",
       "      <td>0.859597</td>\n",
       "      <td>0.846529</td>\n",
       "      <td>0.838538</td>\n",
       "      <td>0.834622</td>\n",
       "      <td>0.832383</td>\n",
       "      <td>0.830967</td>\n",
       "      <td>0.830090</td>\n",
       "      <td>0.829460</td>\n",
       "      <td>...</td>\n",
       "      <td>0.827796</td>\n",
       "      <td>0.827771</td>\n",
       "      <td>0.827762</td>\n",
       "      <td>0.827730</td>\n",
       "      <td>0.827713</td>\n",
       "      <td>0.827695</td>\n",
       "      <td>0.827685</td>\n",
       "      <td>0.827665</td>\n",
       "      <td>0.827657</td>\n",
       "      <td>0.827648</td>\n",
       "    </tr>\n",
       "    <tr>\n",
       "      <th>9</th>\n",
       "      <td>KNNWithMeans</td>\n",
       "      <td>recall</td>\n",
       "      <td>0.283922</td>\n",
       "      <td>0.466016</td>\n",
       "      <td>0.576352</td>\n",
       "      <td>0.641505</td>\n",
       "      <td>0.679639</td>\n",
       "      <td>0.701929</td>\n",
       "      <td>0.715723</td>\n",
       "      <td>0.724545</td>\n",
       "      <td>...</td>\n",
       "      <td>0.748691</td>\n",
       "      <td>0.749043</td>\n",
       "      <td>0.749352</td>\n",
       "      <td>0.749608</td>\n",
       "      <td>0.749840</td>\n",
       "      <td>0.750044</td>\n",
       "      <td>0.750223</td>\n",
       "      <td>0.750373</td>\n",
       "      <td>0.750518</td>\n",
       "      <td>0.750643</td>\n",
       "    </tr>\n",
       "    <tr>\n",
       "      <th>10</th>\n",
       "      <td>KNNWithZScore</td>\n",
       "      <td>precision</td>\n",
       "      <td>0.860083</td>\n",
       "      <td>0.846849</td>\n",
       "      <td>0.839063</td>\n",
       "      <td>0.835059</td>\n",
       "      <td>0.832740</td>\n",
       "      <td>0.831405</td>\n",
       "      <td>0.830518</td>\n",
       "      <td>0.829897</td>\n",
       "      <td>...</td>\n",
       "      <td>0.828205</td>\n",
       "      <td>0.828169</td>\n",
       "      <td>0.828148</td>\n",
       "      <td>0.828121</td>\n",
       "      <td>0.828100</td>\n",
       "      <td>0.828091</td>\n",
       "      <td>0.828077</td>\n",
       "      <td>0.828069</td>\n",
       "      <td>0.828063</td>\n",
       "      <td>0.828054</td>\n",
       "    </tr>\n",
       "    <tr>\n",
       "      <th>11</th>\n",
       "      <td>KNNWithZScore</td>\n",
       "      <td>recall</td>\n",
       "      <td>0.284107</td>\n",
       "      <td>0.466806</td>\n",
       "      <td>0.577681</td>\n",
       "      <td>0.643395</td>\n",
       "      <td>0.681738</td>\n",
       "      <td>0.704302</td>\n",
       "      <td>0.718202</td>\n",
       "      <td>0.727086</td>\n",
       "      <td>...</td>\n",
       "      <td>0.751523</td>\n",
       "      <td>0.751878</td>\n",
       "      <td>0.752186</td>\n",
       "      <td>0.752453</td>\n",
       "      <td>0.752689</td>\n",
       "      <td>0.752901</td>\n",
       "      <td>0.753079</td>\n",
       "      <td>0.753239</td>\n",
       "      <td>0.753386</td>\n",
       "      <td>0.753516</td>\n",
       "    </tr>\n",
       "    <tr>\n",
       "      <th>12</th>\n",
       "      <td>KNNBaseline_ALS</td>\n",
       "      <td>precision</td>\n",
       "      <td>0.818154</td>\n",
       "      <td>0.810129</td>\n",
       "      <td>0.804284</td>\n",
       "      <td>0.800410</td>\n",
       "      <td>0.798130</td>\n",
       "      <td>0.796973</td>\n",
       "      <td>0.796077</td>\n",
       "      <td>0.795621</td>\n",
       "      <td>...</td>\n",
       "      <td>0.794145</td>\n",
       "      <td>0.794109</td>\n",
       "      <td>0.794086</td>\n",
       "      <td>0.794059</td>\n",
       "      <td>0.794047</td>\n",
       "      <td>0.794027</td>\n",
       "      <td>0.794011</td>\n",
       "      <td>0.794007</td>\n",
       "      <td>0.793990</td>\n",
       "      <td>0.793986</td>\n",
       "    </tr>\n",
       "    <tr>\n",
       "      <th>13</th>\n",
       "      <td>KNNBaseline_ALS</td>\n",
       "      <td>recall</td>\n",
       "      <td>0.263590</td>\n",
       "      <td>0.434579</td>\n",
       "      <td>0.542470</td>\n",
       "      <td>0.608132</td>\n",
       "      <td>0.647869</td>\n",
       "      <td>0.671848</td>\n",
       "      <td>0.686587</td>\n",
       "      <td>0.696195</td>\n",
       "      <td>...</td>\n",
       "      <td>0.722268</td>\n",
       "      <td>0.722630</td>\n",
       "      <td>0.722951</td>\n",
       "      <td>0.723218</td>\n",
       "      <td>0.723468</td>\n",
       "      <td>0.723670</td>\n",
       "      <td>0.723848</td>\n",
       "      <td>0.724008</td>\n",
       "      <td>0.724142</td>\n",
       "      <td>0.724274</td>\n",
       "    </tr>\n",
       "    <tr>\n",
       "      <th>14</th>\n",
       "      <td>KNNBaseline_SGD</td>\n",
       "      <td>precision</td>\n",
       "      <td>0.816311</td>\n",
       "      <td>0.808043</td>\n",
       "      <td>0.802015</td>\n",
       "      <td>0.798213</td>\n",
       "      <td>0.795860</td>\n",
       "      <td>0.794616</td>\n",
       "      <td>0.793743</td>\n",
       "      <td>0.793277</td>\n",
       "      <td>...</td>\n",
       "      <td>0.791754</td>\n",
       "      <td>0.791710</td>\n",
       "      <td>0.791685</td>\n",
       "      <td>0.791655</td>\n",
       "      <td>0.791628</td>\n",
       "      <td>0.791608</td>\n",
       "      <td>0.791593</td>\n",
       "      <td>0.791589</td>\n",
       "      <td>0.791576</td>\n",
       "      <td>0.791568</td>\n",
       "    </tr>\n",
       "    <tr>\n",
       "      <th>15</th>\n",
       "      <td>KNNBaseline_SGD</td>\n",
       "      <td>recall</td>\n",
       "      <td>0.262673</td>\n",
       "      <td>0.433179</td>\n",
       "      <td>0.541237</td>\n",
       "      <td>0.607348</td>\n",
       "      <td>0.647535</td>\n",
       "      <td>0.671600</td>\n",
       "      <td>0.686553</td>\n",
       "      <td>0.696241</td>\n",
       "      <td>...</td>\n",
       "      <td>0.722694</td>\n",
       "      <td>0.723057</td>\n",
       "      <td>0.723379</td>\n",
       "      <td>0.723650</td>\n",
       "      <td>0.723891</td>\n",
       "      <td>0.724104</td>\n",
       "      <td>0.724287</td>\n",
       "      <td>0.724456</td>\n",
       "      <td>0.724595</td>\n",
       "      <td>0.724726</td>\n",
       "    </tr>\n",
       "    <tr>\n",
       "      <th>16</th>\n",
       "      <td>SlopeOne</td>\n",
       "      <td>precision</td>\n",
       "      <td>0.779041</td>\n",
       "      <td>0.773857</td>\n",
       "      <td>0.771242</td>\n",
       "      <td>0.769616</td>\n",
       "      <td>0.768457</td>\n",
       "      <td>0.767813</td>\n",
       "      <td>0.767289</td>\n",
       "      <td>0.766946</td>\n",
       "      <td>...</td>\n",
       "      <td>0.765739</td>\n",
       "      <td>0.765723</td>\n",
       "      <td>0.765716</td>\n",
       "      <td>0.765696</td>\n",
       "      <td>0.765680</td>\n",
       "      <td>0.765665</td>\n",
       "      <td>0.765653</td>\n",
       "      <td>0.765645</td>\n",
       "      <td>0.765632</td>\n",
       "      <td>0.765625</td>\n",
       "    </tr>\n",
       "    <tr>\n",
       "      <th>17</th>\n",
       "      <td>SlopeOne</td>\n",
       "      <td>recall</td>\n",
       "      <td>0.246717</td>\n",
       "      <td>0.408568</td>\n",
       "      <td>0.511471</td>\n",
       "      <td>0.574378</td>\n",
       "      <td>0.611949</td>\n",
       "      <td>0.634547</td>\n",
       "      <td>0.648376</td>\n",
       "      <td>0.657253</td>\n",
       "      <td>...</td>\n",
       "      <td>0.681698</td>\n",
       "      <td>0.682042</td>\n",
       "      <td>0.682347</td>\n",
       "      <td>0.682604</td>\n",
       "      <td>0.682829</td>\n",
       "      <td>0.683028</td>\n",
       "      <td>0.683205</td>\n",
       "      <td>0.683360</td>\n",
       "      <td>0.683486</td>\n",
       "      <td>0.683599</td>\n",
       "    </tr>\n",
       "    <tr>\n",
       "      <th>18</th>\n",
       "      <td>CoClustering</td>\n",
       "      <td>precision</td>\n",
       "      <td>0.762300</td>\n",
       "      <td>0.755286</td>\n",
       "      <td>0.750205</td>\n",
       "      <td>0.746982</td>\n",
       "      <td>0.744913</td>\n",
       "      <td>0.743462</td>\n",
       "      <td>0.742680</td>\n",
       "      <td>0.742117</td>\n",
       "      <td>...</td>\n",
       "      <td>0.740489</td>\n",
       "      <td>0.740465</td>\n",
       "      <td>0.740441</td>\n",
       "      <td>0.740428</td>\n",
       "      <td>0.740417</td>\n",
       "      <td>0.740403</td>\n",
       "      <td>0.740383</td>\n",
       "      <td>0.740368</td>\n",
       "      <td>0.740363</td>\n",
       "      <td>0.740365</td>\n",
       "    </tr>\n",
       "    <tr>\n",
       "      <th>19</th>\n",
       "      <td>CoClustering</td>\n",
       "      <td>recall</td>\n",
       "      <td>0.241269</td>\n",
       "      <td>0.403203</td>\n",
       "      <td>0.507331</td>\n",
       "      <td>0.571666</td>\n",
       "      <td>0.610732</td>\n",
       "      <td>0.634254</td>\n",
       "      <td>0.648961</td>\n",
       "      <td>0.658470</td>\n",
       "      <td>...</td>\n",
       "      <td>0.683983</td>\n",
       "      <td>0.684337</td>\n",
       "      <td>0.684627</td>\n",
       "      <td>0.684885</td>\n",
       "      <td>0.685110</td>\n",
       "      <td>0.685305</td>\n",
       "      <td>0.685464</td>\n",
       "      <td>0.685606</td>\n",
       "      <td>0.685736</td>\n",
       "      <td>0.685857</td>\n",
       "    </tr>\n",
       "  </tbody>\n",
       "</table>\n",
       "<p>20 rows × 32 columns</p>\n",
       "</div>"
      ],
      "text/plain": [
       "               algo     metric         1         2         3         4  \\\n",
       "0               SVD  precision  0.778426  0.770209  0.764663  0.760706   \n",
       "1               SVD     recall  0.248225  0.414868  0.522730  0.589079   \n",
       "2             SVDpp  precision  0.778759  0.770683  0.764778  0.761050   \n",
       "3             SVDpp     recall  0.248395  0.415227  0.522707  0.589233   \n",
       "4               NMF  precision  0.783443  0.776724  0.772910  0.770058   \n",
       "5               NMF     recall  0.249464  0.411891  0.514914  0.577397   \n",
       "6          KNNBasic  precision  0.837275  0.825872  0.819865  0.815569   \n",
       "7          KNNBasic     recall  0.280711  0.487692  0.631676  0.723636   \n",
       "8      KNNWithMeans  precision  0.859597  0.846529  0.838538  0.834622   \n",
       "9      KNNWithMeans     recall  0.283922  0.466016  0.576352  0.641505   \n",
       "10    KNNWithZScore  precision  0.860083  0.846849  0.839063  0.835059   \n",
       "11    KNNWithZScore     recall  0.284107  0.466806  0.577681  0.643395   \n",
       "12  KNNBaseline_ALS  precision  0.818154  0.810129  0.804284  0.800410   \n",
       "13  KNNBaseline_ALS     recall  0.263590  0.434579  0.542470  0.608132   \n",
       "14  KNNBaseline_SGD  precision  0.816311  0.808043  0.802015  0.798213   \n",
       "15  KNNBaseline_SGD     recall  0.262673  0.433179  0.541237  0.607348   \n",
       "16         SlopeOne  precision  0.779041  0.773857  0.771242  0.769616   \n",
       "17         SlopeOne     recall  0.246717  0.408568  0.511471  0.574378   \n",
       "18     CoClustering  precision  0.762300  0.755286  0.750205  0.746982   \n",
       "19     CoClustering     recall  0.241269  0.403203  0.507331  0.571666   \n",
       "\n",
       "           5         6         7         8  ...        21        22        23  \\\n",
       "0   0.758745  0.757150  0.756064  0.755447  ...  0.753612  0.753590  0.753564   \n",
       "1   0.630046  0.654626  0.669817  0.679744  ...  0.706742  0.707123  0.707449   \n",
       "2   0.758867  0.757406  0.756344  0.755754  ...  0.753913  0.753880  0.753860   \n",
       "3   0.630028  0.654659  0.669930  0.679843  ...  0.706818  0.707189  0.707519   \n",
       "4   0.768196  0.766989  0.766253  0.765883  ...  0.764482  0.764441  0.764408   \n",
       "5   0.615273  0.637960  0.652051  0.661086  ...  0.685850  0.686190  0.686476   \n",
       "6   0.813824  0.813039  0.812424  0.811964  ...  0.810519  0.810491  0.810476   \n",
       "7   0.781726  0.817964  0.840881  0.855671  ...  0.897369  0.898015  0.898574   \n",
       "8   0.832383  0.830967  0.830090  0.829460  ...  0.827796  0.827771  0.827762   \n",
       "9   0.679639  0.701929  0.715723  0.724545  ...  0.748691  0.749043  0.749352   \n",
       "10  0.832740  0.831405  0.830518  0.829897  ...  0.828205  0.828169  0.828148   \n",
       "11  0.681738  0.704302  0.718202  0.727086  ...  0.751523  0.751878  0.752186   \n",
       "12  0.798130  0.796973  0.796077  0.795621  ...  0.794145  0.794109  0.794086   \n",
       "13  0.647869  0.671848  0.686587  0.696195  ...  0.722268  0.722630  0.722951   \n",
       "14  0.795860  0.794616  0.793743  0.793277  ...  0.791754  0.791710  0.791685   \n",
       "15  0.647535  0.671600  0.686553  0.696241  ...  0.722694  0.723057  0.723379   \n",
       "16  0.768457  0.767813  0.767289  0.766946  ...  0.765739  0.765723  0.765716   \n",
       "17  0.611949  0.634547  0.648376  0.657253  ...  0.681698  0.682042  0.682347   \n",
       "18  0.744913  0.743462  0.742680  0.742117  ...  0.740489  0.740465  0.740441   \n",
       "19  0.610732  0.634254  0.648961  0.658470  ...  0.683983  0.684337  0.684627   \n",
       "\n",
       "          24        25        26        27        28        29        30  \n",
       "0   0.753540  0.753519  0.753507  0.753477  0.753461  0.753447  0.753445  \n",
       "1   0.707721  0.707970  0.708187  0.708362  0.708524  0.708665  0.708802  \n",
       "2   0.753840  0.753820  0.753807  0.753783  0.753772  0.753753  0.753748  \n",
       "3   0.707796  0.708046  0.708266  0.708445  0.708611  0.708751  0.708887  \n",
       "4   0.764400  0.764386  0.764376  0.764367  0.764363  0.764345  0.764334  \n",
       "5   0.686740  0.686971  0.687162  0.687327  0.687482  0.687609  0.687730  \n",
       "6   0.810451  0.810429  0.810416  0.810409  0.810390  0.810389  0.810371  \n",
       "7   0.899047  0.899488  0.899859  0.900204  0.900498  0.900791  0.901026  \n",
       "8   0.827730  0.827713  0.827695  0.827685  0.827665  0.827657  0.827648  \n",
       "9   0.749608  0.749840  0.750044  0.750223  0.750373  0.750518  0.750643  \n",
       "10  0.828121  0.828100  0.828091  0.828077  0.828069  0.828063  0.828054  \n",
       "11  0.752453  0.752689  0.752901  0.753079  0.753239  0.753386  0.753516  \n",
       "12  0.794059  0.794047  0.794027  0.794011  0.794007  0.793990  0.793986  \n",
       "13  0.723218  0.723468  0.723670  0.723848  0.724008  0.724142  0.724274  \n",
       "14  0.791655  0.791628  0.791608  0.791593  0.791589  0.791576  0.791568  \n",
       "15  0.723650  0.723891  0.724104  0.724287  0.724456  0.724595  0.724726  \n",
       "16  0.765696  0.765680  0.765665  0.765653  0.765645  0.765632  0.765625  \n",
       "17  0.682604  0.682829  0.683028  0.683205  0.683360  0.683486  0.683599  \n",
       "18  0.740428  0.740417  0.740403  0.740383  0.740368  0.740363  0.740365  \n",
       "19  0.684885  0.685110  0.685305  0.685464  0.685606  0.685736  0.685857  \n",
       "\n",
       "[20 rows x 32 columns]"
      ]
     },
     "execution_count": 33,
     "metadata": {},
     "output_type": "execute_result"
    }
   ],
   "source": [
    "df_results_pr"
   ]
  },
  {
   "cell_type": "markdown",
   "metadata": {},
   "source": [
    "Based on RMSE, the top models are KNNBaseline (using ALS), SVDpp, and SVD.\n",
    "\n",
    "Lets plot these model's precisions and recalls."
   ]
  },
  {
   "cell_type": "markdown",
   "metadata": {},
   "source": [
    "SVD:"
   ]
  },
  {
   "cell_type": "code",
   "execution_count": 34,
   "metadata": {},
   "outputs": [],
   "source": [
    "svd_pre = list(df_results_pr.loc[0])[2:]\n",
    "svd_rec = list(df_results_pr.loc[1])[2:]"
   ]
  },
  {
   "cell_type": "code",
   "execution_count": 35,
   "metadata": {},
   "outputs": [
    {
     "data": {
      "image/png": "[encoded data removed]",
      "text/plain": [
       "<Figure size 432x288 with 1 Axes>"
      ]
     },
     "metadata": {},
     "output_type": "display_data"
    }
   ],
   "source": [
    "plt.plot(range(1,31),svd_pre,range(1,31),svd_rec,marker='o')\n",
    "plt.title('Precision & Recall by K Value - SVD')\n",
    "plt.legend(labels=['precision','recall'])\n",
    "plt.xlabel('K Value')\n",
    "plt.ylabel('Value')\n",
    "plt.show()"
   ]
  },
  {
   "cell_type": "markdown",
   "metadata": {},
   "source": [
    "SVDpp:"
   ]
  },
  {
   "cell_type": "code",
   "execution_count": 36,
   "metadata": {},
   "outputs": [],
   "source": [
    "svdpp_pre = list(df_results_pr.loc[2])[2:]\n",
    "svdpp_rec = list(df_results_pr.loc[3])[2:]"
   ]
  },
  {
   "cell_type": "code",
   "execution_count": 37,
   "metadata": {},
   "outputs": [
    {
     "data": {
      "image/png": "[encoded data removed]",
      "text/plain": [
       "<Figure size 432x288 with 1 Axes>"
      ]
     },
     "metadata": {},
     "output_type": "display_data"
    }
   ],
   "source": [
    "plt.plot(range(1,31),svdpp_pre,range(1,31),svdpp_rec,marker='o')\n",
    "plt.title('Precision & Recall by K Value - SVD++')\n",
    "plt.legend(labels=['precision','recall'])\n",
    "plt.xlabel('K Value')\n",
    "plt.ylabel('Value')\n",
    "plt.show()"
   ]
  },
  {
   "cell_type": "markdown",
   "metadata": {},
   "source": [
    "KNNBaseline:"
   ]
  },
  {
   "cell_type": "code",
   "execution_count": 38,
   "metadata": {},
   "outputs": [],
   "source": [
    "knnbsl_pre = list(df_results_pr.loc[12])[2:]\n",
    "knnbsl_rec = list(df_results_pr.loc[13])[2:]"
   ]
  },
  {
   "cell_type": "code",
   "execution_count": 39,
   "metadata": {},
   "outputs": [
    {
     "data": {
      "image/png": "[encoded data removed]",
      "text/plain": [
       "<Figure size 432x288 with 1 Axes>"
      ]
     },
     "metadata": {},
     "output_type": "display_data"
    }
   ],
   "source": [
    "plt.plot(range(1,31),knnbsl_pre,range(1,31),knnbsl_rec,marker='o')\n",
    "plt.title('Precision & Recall by K Value - KNNBaseline')\n",
    "plt.legend(labels=['precision','recall'])\n",
    "plt.xlabel('K Value')\n",
    "plt.ylabel('Value')\n",
    "plt.show()"
   ]
  },
  {
   "cell_type": "markdown",
   "metadata": {},
   "source": [
    "Each model seems to follow a similar trajectory. They all have similar precision, recall values.\n",
    "\n",
    "We can plot Precision by Recall for each model"
   ]
  },
  {
   "cell_type": "code",
   "execution_count": 40,
   "metadata": {},
   "outputs": [
    {
     "data": {
      "image/png": "[encoded data removed]",
      "text/plain": [
       "<Figure size 432x288 with 1 Axes>"
      ]
     },
     "metadata": {},
     "output_type": "display_data"
    }
   ],
   "source": [
    "plt.plot(knnbsl_rec,knnbsl_pre)\n",
    "plt.plot(svd_rec,svd_pre)\n",
    "plt.plot(svdpp_rec,svdpp_pre)\n",
    "plt.title('Precision Vs Recall by Model')\n",
    "plt.legend(labels=['KNNBaseline','SVD','SVDpp'])\n",
    "plt.xlabel('Recall')\n",
    "plt.ylabel('Precision')\n",
    "plt.show()"
   ]
  },
  {
   "cell_type": "markdown",
   "metadata": {},
   "source": [
    "We can see that SVD and SVDpp have a near identical precision recall curve. KNN Basline is slightly superior with slightly larger values by about .04. Not a big difference."
   ]
  },
  {
   "cell_type": "markdown",
   "metadata": {},
   "source": [
    "Let's try recalculating precision recall using Cross Validation on the full dataset:"
   ]
  },
  {
   "cell_type": "code",
   "execution_count": 41,
   "metadata": {},
   "outputs": [],
   "source": [
    "df_results_pr2 = pd.DataFrame(columns=['algo','metric','1','2','3','4','5','6','7','8','9','10','11','12','13','14','15','16','17','18','19','20','21','22','23','24','25','26','27','28','29','30'])"
   ]
  },
  {
   "cell_type": "code",
   "execution_count": 42,
   "metadata": {},
   "outputs": [],
   "source": [
    "kf = KFold(n_splits=5)\n",
    "reader = Reader(rating_scale=(1, 5))\n",
    "data = Dataset.load_from_df(df[['userID', 'itemID', 'rating']], reader)"
   ]
  },
  {
   "cell_type": "code",
   "execution_count": 43,
   "metadata": {},
   "outputs": [],
   "source": [
    "algo = SVD(n_factors= 1, lr_all= 0.01, reg_all= 0.1)"
   ]
  },
  {
   "cell_type": "code",
   "execution_count": 44,
   "metadata": {},
   "outputs": [],
   "source": [
    "SVD_CV_PRE = []\n",
    "SVD_CV_REC = []\n",
    "for k in range(1,31):\n",
    "    pre = []\n",
    "    rec = []\n",
    "    for trainset, testset in kf.split(data):\n",
    "        algo.fit(trainset)\n",
    "        predictions = algo.test(testset)\n",
    "        precisions, recalls = precision_recall_at_k(predictions, k=k, threshold=4)\n",
    "        # Precision and recall can then be averaged over all users\n",
    "        pre.append(sum(prec for prec in precisions.values()) / len(precisions))\n",
    "        rec.append(sum(rec for rec in recalls.values()) / len(recalls))\n",
    "    SVD_CV_PRE.append(sum(pre)/len(pre))\n",
    "    SVD_CV_REC.append(sum(rec)/len(rec))\n",
    "        "
   ]
  },
  {
   "cell_type": "code",
   "execution_count": 45,
   "metadata": {},
   "outputs": [
    {
     "data": {
      "image/png": "[encoded data removed]",
      "text/plain": [
       "<Figure size 432x288 with 1 Axes>"
      ]
     },
     "metadata": {},
     "output_type": "display_data"
    }
   ],
   "source": [
    "plt.plot(range(1,31),SVD_CV_PRE,range(1,31),SVD_CV_REC,marker='o')\n",
    "plt.title('Precision & Recall by K Value')\n",
    "plt.legend(labels=['precision','recall'])\n",
    "plt.xlabel('K Value')\n",
    "plt.ylabel('Value')\n",
    "plt.show()"
   ]
  },
  {
   "cell_type": "markdown",
   "metadata": {},
   "source": [
    "This netted similar results to running precision recall only on the test set. We're going to use the original results!"
   ]
  },
  {
   "cell_type": "markdown",
   "metadata": {},
   "source": [
    "We can see for each model that precision/recall is fairly high at any K value greater than 5.\n",
    "\n",
    "We're going to primarily use RMSE to evaluate our models"
   ]
  },
  {
   "cell_type": "markdown",
   "metadata": {},
   "source": [
    "Top Models are:\n",
    "\n",
    "1) KNNBaseline\n",
    "\n",
    "\n",
    "2) SVD\n",
    "\n",
    "3) SVD++"
   ]
  },
  {
   "cell_type": "markdown",
   "metadata": {},
   "source": [
    "**Collaborative Filtering with Neural Network**  "
   ]
  },
  {
   "cell_type": "code",
   "execution_count": 46,
   "metadata": {},
   "outputs": [
    {
     "ename": "ModuleNotFoundError",
     "evalue": "No module named 'tensorflow'",
     "output_type": "error",
     "traceback": [
      "\u001b[1;31m---------------------------------------------------------------------------\u001b[0m",
      "\u001b[1;31mModuleNotFoundError\u001b[0m                       Traceback (most recent call last)",
      "\u001b[1;32m<ipython-input-46-042bc9d27b99>\u001b[0m in \u001b[0;36m<module>\u001b[1;34m\u001b[0m\n\u001b[1;32m----> 1\u001b[1;33m \u001b[1;32mimport\u001b[0m \u001b[0mtensorflow\u001b[0m \u001b[1;32mas\u001b[0m \u001b[0mtf\u001b[0m\u001b[1;33m\u001b[0m\u001b[1;33m\u001b[0m\u001b[0m\n\u001b[0m\u001b[0;32m      2\u001b[0m \u001b[1;32mfrom\u001b[0m \u001b[0mkeras\u001b[0m\u001b[1;33m.\u001b[0m\u001b[0mregularizers\u001b[0m \u001b[1;32mimport\u001b[0m \u001b[0ml1\u001b[0m\u001b[1;33m,\u001b[0m \u001b[0ml2\u001b[0m\u001b[1;33m\u001b[0m\u001b[1;33m\u001b[0m\u001b[0m\n\u001b[0;32m      3\u001b[0m \u001b[1;32mfrom\u001b[0m \u001b[0mkeras\u001b[0m\u001b[1;33m.\u001b[0m\u001b[0mmodels\u001b[0m \u001b[1;32mimport\u001b[0m \u001b[0mSequential\u001b[0m\u001b[1;33m,\u001b[0m \u001b[0mModel\u001b[0m\u001b[1;33m\u001b[0m\u001b[1;33m\u001b[0m\u001b[0m\n\u001b[0;32m      4\u001b[0m \u001b[1;32mfrom\u001b[0m \u001b[0mkeras\u001b[0m\u001b[1;33m.\u001b[0m\u001b[0mlayers\u001b[0m\u001b[1;33m.\u001b[0m\u001b[0mcore\u001b[0m \u001b[1;32mimport\u001b[0m \u001b[0mDense\u001b[0m\u001b[1;33m,\u001b[0m \u001b[0mLambda\u001b[0m\u001b[1;33m,\u001b[0m \u001b[0mActivation\u001b[0m\u001b[1;33m\u001b[0m\u001b[1;33m\u001b[0m\u001b[0m\n\u001b[0;32m      5\u001b[0m \u001b[1;32mfrom\u001b[0m \u001b[0mkeras\u001b[0m\u001b[1;33m.\u001b[0m\u001b[0mlayers\u001b[0m \u001b[1;32mimport\u001b[0m \u001b[0mEmbedding\u001b[0m\u001b[1;33m,\u001b[0m \u001b[0mInput\u001b[0m\u001b[1;33m,\u001b[0m \u001b[0mDense\u001b[0m\u001b[1;33m,\u001b[0m \u001b[0mMultiply\u001b[0m\u001b[1;33m,\u001b[0m \u001b[0mReshape\u001b[0m\u001b[1;33m,\u001b[0m  \u001b[0mFlatten\u001b[0m\u001b[1;33m,\u001b[0m \u001b[0mDropout\u001b[0m\u001b[1;33m,\u001b[0m \u001b[0mconcatenate\u001b[0m\u001b[1;33m\u001b[0m\u001b[1;33m\u001b[0m\u001b[0m\n",
      "\u001b[1;31mModuleNotFoundError\u001b[0m: No module named 'tensorflow'"
     ]
    }
   ],
   "source": [
    "import tensorflow as tf\n",
    "from keras.regularizers import l1, l2\n",
    "from keras.models import Sequential, Model\n",
    "from keras.layers.core import Dense, Lambda, Activation\n",
    "from keras.layers import Embedding, Input, Dense, Multiply, Reshape,  Flatten, Dropout, concatenate\n",
    "from keras.optimizers import Adam\n",
    "from time import time\n",
    "from sklearn.preprocessing import OneHotEncoder\n",
    "from keras import regularizers"
   ]
  },
  {
   "cell_type": "code",
   "execution_count": null,
   "metadata": {},
   "outputs": [],
   "source": [
    "# limiting 100000 rows for NN\n",
    "df_nn_100 = df.head(100000)\n",
    "df_nn_100"
   ]
  },
  {
   "cell_type": "markdown",
   "metadata": {},
   "source": [
    "Neural Network need IDs to be integer so using StringLookup to assign a Integer value to string IDs"
   ]
  },
  {
   "cell_type": "code",
   "execution_count": null,
   "metadata": {},
   "outputs": [],
   "source": [
    "# create hash key for IDs as neural network need Integers for IDs\n",
    "userID_vocab = df_nn_100.userID.unique().tolist()\n",
    "itemID_vocab = df_nn_100.itemID.unique().tolist()\n",
    "\n",
    "userID_numerical = tf.strings.to_hash_bucket_strong(\n",
    "    input=df_nn_100.userID,\n",
    "    num_buckets=len(df_nn_100.userID.unique()),\n",
    "    key=[1, 2])\n",
    "\n",
    "itemID_numerical = item_idxs = tf.strings.to_hash_bucket_strong(\n",
    "    input=df_nn_100.itemID,\n",
    "    num_buckets=len(df_nn_100.itemID.unique()),\n",
    "    key=[1, 2])"
   ]
  },
  {
   "cell_type": "code",
   "execution_count": null,
   "metadata": {},
   "outputs": [],
   "source": [
    "# creating dataframe with numerical IDs for user and item\n",
    "df_nn_num = pd.DataFrame()\n",
    "df_nn_num['userID'] = userID_numerical\n",
    "df_nn_num['itemID'] = itemID_numerical\n",
    "df_nn_num['rating'] = df_nn_100.rating.to_list()"
   ]
  },
  {
   "cell_type": "code",
   "execution_count": null,
   "metadata": {},
   "outputs": [],
   "source": [
    "# splitting dataset\n",
    "from sklearn.model_selection import train_test_split\n",
    "train_nn, test_nn = train_test_split(df_nn_num, test_size=0.2, random_state=42)"
   ]
  },
  {
   "cell_type": "code",
   "execution_count": null,
   "metadata": {},
   "outputs": [],
   "source": [
    "# define model \n",
    "def get_model(num_users, num_items, mf_dim=10, layers=[10], reg_layers=[0], reg_mf=0):\n",
    "    assert len(layers) == len(reg_layers)\n",
    "    num_layer = len(layers) #Number of layers in the MLP\n",
    "    # Input variables\n",
    "    user_input = Input(shape=(1,), dtype='int32', name = 'user_input')\n",
    "    item_input = Input(shape=(1,), dtype='int32', name = 'item_input')\n",
    "    \n",
    "    # Embedding layer\n",
    "    MF_Embedding_User = Embedding(input_dim = num_users, output_dim = mf_dim, name = 'mf_embedding_user',\n",
    "                                  embeddings_regularizer= l2(reg_mf), input_length=1)\n",
    "    MF_Embedding_Item = Embedding(input_dim = num_items, output_dim = mf_dim, name = 'mf_embedding_item',\n",
    "                                  embeddings_regularizer = l2(reg_mf), input_length=1)   \n",
    "#     print(\"layers values {}\".format(layers[0]))\n",
    "    MLP_Embedding_User = Embedding(input_dim = num_users, output_dim = int(layers[0]/2), name = \"mlp_embedding_user\",\n",
    "                                   embeddings_regularizer = l2(reg_layers[0]), input_length=1)\n",
    "    MLP_Embedding_Item = Embedding(input_dim = num_items, output_dim = int(layers[0]/2), name = 'mlp_embedding_item',\n",
    "                                   embeddings_regularizer = l2(reg_layers[0]), input_length=1)   \n",
    "    \n",
    "    # MF part\n",
    "    MF_Embedding_User(user_input)\n",
    "    mf_user_latent = Flatten()(MF_Embedding_User(user_input))\n",
    "    mf_item_latent = Flatten()(MF_Embedding_Item(item_input))\n",
    "    mf_vector = Multiply()([mf_user_latent, mf_item_latent]) # element-wise multiply\n",
    "\n",
    "    # MLP part \n",
    "    mlp_user_latent = Flatten()(MLP_Embedding_User(user_input))\n",
    "    mlp_item_latent = Flatten()(MLP_Embedding_Item(item_input))\n",
    "    mlp_vector = Multiply()([mlp_user_latent, mlp_item_latent])\n",
    "    for idx in range(1, num_layer):\n",
    "#         print(\"layer {0}:\".format(layers[idx]))\n",
    "        layer = Dense(layers[idx], kernel_regularizer = l2(reg_layers[idx]), activation='relu', name=\"layer%d\" %idx)\n",
    "        mlp_vector = layer(mlp_vector)\n",
    "\n",
    "    predict_vector = concatenate([mf_vector, mlp_vector])\n",
    "    \n",
    "    # Final prediction layer\n",
    "    prediction=Dense(1, activation='softmax', name = \"prediction\")(predict_vector)\n",
    "    \n",
    "    model = Model(inputs=[user_input, item_input], \n",
    "                  outputs=prediction)\n",
    "    \n",
    "    return model"
   ]
  },
  {
   "cell_type": "code",
   "execution_count": null,
   "metadata": {},
   "outputs": [],
   "source": [
    "## evaluate model\n",
    "def evaluate_model(model,user_input,item_input,labels, testRatings,testLabels):\n",
    "    #metric MAE\n",
    "    #for train\n",
    "    train_eval = model.evaluate(x=[user_input,item_input],y=labels,verbose=0)\n",
    "    testRatingUsers=testRatings[:,0]\n",
    "    testRatingItems=testRatings[:,1]\n",
    "    test_eval = model.evaluate(x=[testRatingUsers,testRatingItems],y=testLabels,verbose=0)\n",
    "    return train_eval, test_eval"
   ]
  },
  {
   "cell_type": "code",
   "execution_count": null,
   "metadata": {},
   "outputs": [],
   "source": [
    "# defining seperate user,item,rating entities\n",
    "user_input = np.array(train_nn.userID)\n",
    "item_input = np.array(train_nn.itemID)\n",
    "labels = np.array(train_nn[['rating']])\n",
    "testRatings = np.array(test_nn[['userID','itemID']])\n",
    "testLabels = np.array(test_nn['rating'])"
   ]
  },
  {
   "cell_type": "code",
   "execution_count": null,
   "metadata": {},
   "outputs": [],
   "source": [
    "if __name__ == '__main__':\n",
    "\n",
    "#################### Arguments ####################\n",
    "\n",
    "    num_epochs = 5    \n",
    "    batch_size = 256\n",
    "    mf_dim = 8\n",
    "    layers = [64,32,16,8]\n",
    "    reg_mf = 0\n",
    "    reg_layers = [0,0,0,0]\n",
    "    num_negatives = 4\n",
    "    learning_rate = 1e-4\n",
    "    learner = 'adam'\n",
    "    verbose = 1\n",
    "    mf_pretrain = ''\n",
    "    mlp_pretrain = ''\n",
    "   \n",
    "    topK = 10\n",
    "    evaluation_threads = 1 \n",
    "\n",
    "    # Loading data\n",
    "    t1 = time()\n",
    "    \n",
    "    num_items=train_nn.itemID.shape[0]\n",
    "    num_users=train_nn.userID.shape[0]\n",
    "\n",
    "    # Build model\n",
    "    model = get_model(int(num_users+1), \n",
    "                      int(num_items+1), \n",
    "                      mf_dim, \n",
    "                      layers, \n",
    "                      reg_layers, \n",
    "                      reg_mf)\n",
    "\n",
    "    model.compile(optimizer=Adam(lr=learning_rate), \n",
    "                  loss= ['mse'], \n",
    "                  metrics=['mean_absolute_error'])\n",
    "\n",
    "\n",
    "        \n",
    "    # Training model\n",
    "    for epoch in range(num_epochs):\n",
    "        t1 = time()\n",
    "  \n",
    "        # Training\n",
    "        hist = model.fit([user_input, item_input], #input\n",
    "                         labels, # labels \n",
    "                         batch_size=batch_size, verbose=1, shuffle=True)\n",
    "        t2 = time()\n",
    "        \n",
    "        train_eval_list = []\n",
    "        test_eval_list = []\n",
    "        train_eval, test_eval = evaluate_model(model,user_input,item_input,labels, testRatings,testLabels)\n",
    "    print(\"training RMSE, MAE\",train_eval)\n",
    "    print(\"test RMSE, MAE\",test_eval)"
   ]
  },
  {
   "cell_type": "markdown",
   "metadata": {},
   "source": [
    "### Review Based Model"
   ]
  },
  {
   "cell_type": "code",
   "execution_count": null,
   "metadata": {},
   "outputs": [],
   "source": [
    "from sklearn.model_selection import train_test_split\n",
    "train_review, test_review = train_test_split(df_review, test_size=0.2, random_state=42)"
   ]
  },
  {
   "cell_type": "code",
   "execution_count": null,
   "metadata": {},
   "outputs": [],
   "source": [
    "train_review = train_review[['reviewerID','asin','overall','reviewText']]\n",
    "train_review.columns = ['userID','itemID','rating','reviewText']\n",
    "\n",
    "test_review = test_review[['reviewerID','asin','overall','reviewText']]\n",
    "test_review.columns = ['userID','itemID','rating','reviewText']"
   ]
  },
  {
   "cell_type": "code",
   "execution_count": null,
   "metadata": {},
   "outputs": [],
   "source": [
    "count = train_review.groupby(\"itemID\", as_index=False).count()\n",
    "mean = train_review.groupby(\"itemID\", as_index=False).mean()\n",
    "m = train_review['rating'].mean()\n",
    "\n",
    "dfMerged = pd.merge(train_review, count, how='right', on=['itemID'])"
   ]
  },
  {
   "cell_type": "code",
   "execution_count": null,
   "metadata": {},
   "outputs": [],
   "source": [
    "# Get Reviews that are not null\n",
    "reviews = train_review[['userID','reviewText','rating','itemID']]\n",
    "reviews = reviews.dropna()\n",
    "dfProductReview = train_review.groupby(\"itemID\", as_index=False).mean()\n",
    "\n",
    "ProductReviewSummary = reviews.groupby(\"itemID\")[\"reviewText\"].apply(str)\n",
    "\n",
    "p = ProductReviewSummary.to_frame()\n",
    "p['reviewText'] = p['reviewText'].str.replace('\\d+',\" \")\n",
    "p['reviewText'] = p['reviewText'].str.replace('\\n',\" \")\n",
    "p['reviewText'] = p['reviewText'].str.strip(\" \")\n",
    "\n",
    "p = p.reset_index()"
   ]
  },
  {
   "cell_type": "code",
   "execution_count": null,
   "metadata": {},
   "outputs": [],
   "source": [
    "tf = TfidfVectorizer(analyzer='word', ngram_range=(1, 3), min_df=0, stop_words='english')\n",
    "tfidf_matrix = tf.fit_transform(p['reviewText'])\n",
    "cosine_similarities = cosine_similarity(tfidf_matrix,Y=None,dense_output=False)\n",
    "cnum = (cosine_similarities.toarray())\n",
    "productRatings = reviews.groupby(by='itemID').mean().reset_index()"
   ]
  },
  {
   "cell_type": "code",
   "execution_count": null,
   "metadata": {},
   "outputs": [],
   "source": [
    "def get_recommendations(pid, k, m):\n",
    "\n",
    "    try:\n",
    "        id = int(p.index[p['itemID'] == pid][0])\n",
    "        a = cosine_similarities.getcol(id)\n",
    "    except:\n",
    "        return m\n",
    "\n",
    "    val = list(enumerate(a.data))\n",
    "    b = dict(val)\n",
    "\n",
    "    c = sorted(b.items(),key=lambda x:x[1],reverse=True)[1:k+1]\n",
    "    wr = 0\n",
    "    sum_sim = 0\n",
    "    for idx in c:\n",
    "        \n",
    "        product = p.iloc[idx[0]]['itemID']\n",
    "        sim = idx[1]\n",
    "        avgRating = float(productRatings[productRatings['itemID'] == product]['rating'])\n",
    "        \n",
    "        wr += avgRating * sim\n",
    "        sum_sim += sim\n",
    "        \n",
    "    return wr / sum_sim\n"
   ]
  },
  {
   "cell_type": "code",
   "execution_count": null,
   "metadata": {},
   "outputs": [],
   "source": [
    "# Training RMSE\n",
    "train_review['Pred_rating'] = train_review.apply(lambda row: get_recommendations(row['itemID'],5,m), axis = 1)\n",
    "txt_predictions = train_review[['userID','itemID','rating','Pred_rating','reviewText']]\n",
    "reviewRMSE = ((train_review.Pred_rating - train_review.rating) ** 2).mean() ** .5\n",
    "print('Review Based Model RMSE: {:.4f}'.format(reviewRMSE))"
   ]
  },
  {
   "cell_type": "code",
   "execution_count": null,
   "metadata": {},
   "outputs": [],
   "source": [
    "# Testing RMSE\n",
    "test_review['Pred_rating'] = test_review.apply(lambda row: get_recommendations(row['itemID'],5,m), axis = 1)\n",
    "txt_predictions = test_review[['userID','itemID','rating','Pred_rating','reviewText']]\n",
    "reviewRMSE = ((test_review.Pred_rating - test_review.rating) ** 2).mean() ** .5\n",
    "print('Review Based Model RMSE: {:.4f}'.format(reviewRMSE))"
   ]
  }
 ],
 "metadata": {
  "kernelspec": {
   "display_name": "Python 3",
   "language": "python",
   "name": "python3"
  },
  "language_info": {
   "codemirror_mode": {
    "name": "ipython",
    "version": 3
   },
   "file_extension": ".py",
   "mimetype": "text/x-python",
   "name": "python",
   "nbconvert_exporter": "python",
   "pygments_lexer": "ipython3",
   "version": "3.8.5"
  }
 },
 "nbformat": 4,
 "nbformat_minor": 4
}
